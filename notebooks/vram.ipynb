{
 "cells": [
  {
   "cell_type": "code",
   "execution_count": 1,
   "metadata": {},
   "outputs": [
    {
     "name": "stderr",
     "output_type": "stream",
     "text": [
      "/home/adria/.conda/envs/LLM/lib/python3.11/site-packages/tqdm/auto.py:21: TqdmWarning: IProgress not found. Please update jupyter and ipywidgets. See https://ipywidgets.readthedocs.io/en/stable/user_install.html\n",
      "  from .autonotebook import tqdm as notebook_tqdm\n",
      "/home/adria/.conda/envs/LLM/lib/python3.11/site-packages/transformers/tokenization_utils_base.py:1601: FutureWarning: `clean_up_tokenization_spaces` was not set. It will be set to `True` by default. This behavior will be depracted in transformers v4.45, and will be then set to `False` by default. For more details check this issue: https://github.com/huggingface/transformers/issues/31884\n",
      "  warnings.warn(\n"
     ]
    }
   ],
   "source": [
    "import os\n",
    "import sys\n",
    "import yaml\n",
    "from collections import OrderedDict\n",
    "sys.path.append(\"..\")\n",
    "from llm.tokenizer import LBPETokenizer\n",
    "\n",
    "\n",
    "CONFIG_TRAIN_PATH = os.path.abspath(\n",
    "    os.path.join(os.path.pardir, \"llm\",\"config\", \"train.yml\")\n",
    ")\n",
    "\n",
    "def load_config(path: str) -> dict:\n",
    "    with open(path, \"r\") as file:\n",
    "        config = yaml.safe_load(file)\n",
    "    return config\n",
    "\n",
    "def params(\n",
    "    n_embd: int,\n",
    "    block_size: int,\n",
    "    vocab_size: int,\n",
    "    n_layer: int\n",
    "           ):\n",
    "    \"\"\" estimates the number of parameters in the model\"\"\"\n",
    "    out = OrderedDict()\n",
    "\n",
    "    # token and position embeddings\n",
    "    out['emebedding/position'] = n_embd * block_size\n",
    "    out['embedding/token'] = n_embd * vocab_size\n",
    "    out['embedding'] = out['emebedding/position'] + out['embedding/token']\n",
    "\n",
    "    # attention blocks\n",
    "    out['attention/ln'] = n_embd # note, bias=False in our LN\n",
    "    out['attention/kqv'] = n_embd * 3*n_embd\n",
    "    out['attention/proj'] = n_embd**2\n",
    "    out['attention'] = out['attention/ln'] + out['attention/kqv'] + out['attention/proj']\n",
    "\n",
    "    # MLP blocks\n",
    "    ffw_size = 4*n_embd # feed forward size\n",
    "    out['mlp/ln'] = n_embd\n",
    "    out['mlp/ffw'] = n_embd * ffw_size\n",
    "    out['mlp/proj'] = ffw_size * n_embd\n",
    "    out['mlp'] = out['mlp/ln'] + out['mlp/ffw'] + out['mlp/proj']\n",
    "    \n",
    "    # the transformer and the rest of it\n",
    "    out['block'] = out['attention'] + out['mlp']\n",
    "    out['transformer'] = n_layer * out['block']\n",
    "    out['ln_f'] = n_embd # final layernorm\n",
    "    out['dense'] = 0 # 0 because of parameter sharing. This layer uses the weights from the embedding layer\n",
    "\n",
    "    # total\n",
    "    out['total'] = out['embedding'] + out['transformer'] + out['ln_f'] + out['dense']\n",
    "\n",
    "    return out\n",
    "\n",
    "def flops(\n",
    "    n_embd: int,\n",
    "    block_size: int,\n",
    "    vocab_size: int,\n",
    "    n_layer: int,\n",
    "    n_head: int\n",
    "    ):\n",
    "    # we only count Weight FLOPs, all other layers (LayerNorm, Softmax, etc) are effectively irrelevant\n",
    "    # we count actual FLOPs, not MACs. Hence 2* all over the place\n",
    "    # basically for any matrix multiply A (BxC) @ B (CxD) -> (BxD) flops are 2*B*C*D\n",
    "\n",
    "    out = OrderedDict()\n",
    "    head_size = n_embd // n_head\n",
    "\n",
    "    # attention blocks\n",
    "    # 1) the projection to key, query, values\n",
    "    out['attention/kqv'] = 2 * block_size * (n_embd * 3*n_embd)\n",
    "    # 2) calculating the attention scores\n",
    "    out['attention/scores'] = 2 * block_size * block_size * n_embd\n",
    "    # 3) the reduction of the values (B, nh, T, T) x (B, nh, T, hs) -> (B, nh, T, hs)\n",
    "    out['attention/reduce'] = 2 * n_head * (block_size * block_size * head_size)\n",
    "    # 4) the final linear projection\n",
    "    out['attention/proj'] = 2 * block_size * (n_embd * n_embd)\n",
    "    out['attention'] = sum(out['attention/'+k] for k in ['kqv', 'scores', 'reduce', 'proj'])\n",
    "\n",
    "    # MLP blocks\n",
    "    ffw_size = 4*n_embd # feed forward size\n",
    "    out['mlp/ffw1'] = 2 * block_size * (n_embd * ffw_size)\n",
    "    out['mlp/ffw2'] = 2 * block_size * (ffw_size * n_embd)\n",
    "    out['mlp'] = out['mlp/ffw1'] + out['mlp/ffw2']\n",
    "\n",
    "    # the transformer and the rest of it\n",
    "    out['block'] = out['attention'] + out['mlp']\n",
    "    out['transformer'] = n_layer * out['block']\n",
    "    out['dense'] = 2 * block_size * (n_embd * vocab_size)\n",
    "\n",
    "    # forward,backward,total\n",
    "    out['forward_total'] = out['transformer'] + out['dense']\n",
    "    out['backward_total'] = 2 * out['forward_total'] # use common estimate of bwd = 2*fwd\n",
    "    out['total'] = out['forward_total'] + out['backward_total']\n",
    "\n",
    "    return out\n",
    "\n",
    "# now here is an estimate copy pasted from the PaLM paper\n",
    "# this formula is often used to calculate MFU (model flops utilization)\n",
    "def palm_flops(n_embd: int,\n",
    "    block_size: int,\n",
    "    vocab_size: int,\n",
    "    n_layer: int,\n",
    "    n_head: int):\n",
    "    \"\"\"estimate of the model flops following PaLM paper formula\"\"\"\n",
    "    # non-embedding model parameters. note that we do not subtract the\n",
    "    # embedding/token params because those are tied and get used in the last layer.\n",
    "    N = params(n_embd=n_embd,\n",
    "    block_size=block_size,\n",
    "    vocab_size=vocab_size,\n",
    "    n_layer=n_layer)['total'] - params(n_embd=n_embd,\n",
    "        block_size=block_size,\n",
    "        vocab_size=vocab_size,\n",
    "        n_layer=n_layer)['emebedding/position']\n",
    "    L, H, Q, T = n_layer, n_head, n_embd//n_head, block_size\n",
    "    mf_per_token = 6*N + 12*L*H*Q*T\n",
    "    mf = mf_per_token * block_size\n",
    "    return mf"
   ]
  },
  {
   "cell_type": "code",
   "execution_count": 2,
   "metadata": {},
   "outputs": [],
   "source": [
    "config = load_config(CONFIG_TRAIN_PATH)"
   ]
  },
  {
   "cell_type": "code",
   "execution_count": 3,
   "metadata": {},
   "outputs": [],
   "source": [
    "tokenizer = LBPETokenizer()\n",
    "tokenizer.load(model_file='../llm/LBPE.model')"
   ]
  },
  {
   "cell_type": "code",
   "execution_count": 4,
   "metadata": {},
   "outputs": [
    {
     "data": {
      "text/plain": [
       "264"
      ]
     },
     "execution_count": 4,
     "metadata": {},
     "output_type": "execute_result"
    }
   ],
   "source": [
    "len(tokenizer.vocab)"
   ]
  },
  {
   "cell_type": "code",
   "execution_count": 5,
   "metadata": {},
   "outputs": [],
   "source": [
    "block_size = config[\"DecoderTransformer\"][\"context_size\"]\n",
    "vocab_size = 276\n",
    "n_layer = config[\"DecoderTransformer\"][\"n_layers\"]\n",
    "n_head = config[\"DecoderTransformer\"][\"num_heads\"]\n",
    "n_embd = config[\"DecoderTransformer\"][\"embedding_dim\"]\n",
    "bias = config[\"DecoderTransformer\"][\"qkv_bias\"]\n",
    "assert not bias, \"this notebook assumes bias=False just for simplicity\""
   ]
  },
  {
   "cell_type": "code",
   "execution_count": 6,
   "metadata": {},
   "outputs": [
    {
     "name": "stdout",
     "output_type": "stream",
     "text": [
      "# Params: 0.436778628 B\n"
     ]
    }
   ],
   "source": [
    "p1 = 436_778_628 #/ 1e9\n",
    "print(f\"# Params: {p1/1e9} B\")"
   ]
  },
  {
   "cell_type": "code",
   "execution_count": 7,
   "metadata": {},
   "outputs": [
    {
     "name": "stdout",
     "output_type": "stream",
     "text": [
      "we see: 85362432, expected: 436778628, match: False\n",
      "name                 params     ratio (%) \n",
      "emebedding/position      196608     0.2303\n",
      "embedding/token          211968     0.2483\n",
      "embedding                408576     0.4786\n",
      "attention/ln                768     0.0009\n",
      "attention/kqv           1769472     2.0729\n",
      "attention/proj           589824     0.6910\n",
      "attention               2360064     2.7648\n",
      "mlp/ln                      768     0.0009\n",
      "mlp/ffw                 2359296     2.7639\n",
      "mlp/proj                2359296     2.7639\n",
      "mlp                     4719360     5.5286\n",
      "block                   7079424     8.2934\n",
      "transformer            84953088    99.5205\n",
      "ln_f                        768     0.0009\n",
      "dense                         0     0.0000\n",
      "total                  85362432   100.0000\n"
     ]
    }
   ],
   "source": [
    "# compare our param count to that reported by PyTorch\n",
    "p = params(\n",
    "    n_embd=n_embd,\n",
    "    block_size=block_size,\n",
    "    vocab_size=vocab_size,\n",
    "    n_layer=n_layer\n",
    ")\n",
    "params_total = p['total']\n",
    "print(f\"we see: {params_total}, expected: {p1}, match: {params_total == p1}\")\n",
    "# create a header\n",
    "print(f\"{'name':20s} {'params':10s} {'ratio (%)':10s}\")\n",
    "for k,v in p.items():\n",
    "    print(f\"{k:20s} {v:10d} {v/params_total*100:10.4f}\")"
   ]
  },
  {
   "cell_type": "code",
   "execution_count": 8,
   "metadata": {},
   "outputs": [
    {
     "name": "stdout",
     "output_type": "stream",
     "text": [
      "est checkpoint size: 1.02 GB\n",
      "measured with wc -c ckpt.pt: 1542470366\n",
      "fluff ratio: 150.58%\n"
     ]
    }
   ],
   "source": [
    "# we can now calculate the size of each checkpoint\n",
    "# params are stored in fp32, and the AdamW optimizer has 2 additional buffers per param for statistics\n",
    "params_bytes = params_total*4\n",
    "params_and_buffers_bytes = params_bytes + 2*params_bytes\n",
    "print(f\"best checkpoint size: {params_and_buffers_bytes/1e9:.2f} GB\")\n",
    "measured_bytes = 1542470366 # from wc -c ckpt.pt\n",
    "print(f\"measured with wc -c ckpt.pt: {measured_bytes}\")\n",
    "print(f\"fluff ratio: {measured_bytes/params_and_buffers_bytes*100:.2f}%\")"
   ]
  },
  {
   "cell_type": "code",
   "execution_count": 19,
   "metadata": {},
   "outputs": [
    {
     "name": "stdout",
     "output_type": "stream",
     "text": [
      "memory ratio taken up just for parameters: 2.13%\n"
     ]
    }
   ],
   "source": [
    "\n",
    "gpu_memory = 48e9 # 40 GB A100 GPU, roughly\n",
    "print(f\"memory ratio taken up just for parameters: {params_and_buffers_bytes / gpu_memory * 100:.2f}%\")"
   ]
  },
  {
   "cell_type": "code",
   "execution_count": 10,
   "metadata": {},
   "outputs": [
    {
     "name": "stdout",
     "output_type": "stream",
     "text": [
      "name                 flops          ratio (%) \n",
      "attention/kqv             905969664     1.9690\n",
      "attention/scores          100663296     0.2188\n",
      "attention/reduce          100663296     0.2188\n",
      "attention/proj            301989888     0.6563\n",
      "attention                1409286144     3.0629\n",
      "mlp/ffw1                 1207959552     2.6254\n",
      "mlp/ffw2                 1207959552     2.6254\n",
      "mlp                      2415919104     5.2507\n",
      "block                    3825205248     8.3137\n",
      "transformer             45902462976    99.7641\n",
      "dense                     108527616     0.2359\n",
      "forward_total           46010990592   100.0000\n",
      "backward_total          92021981184   200.0000\n",
      "total                  138032971776   300.0000\n"
     ]
    }
   ],
   "source": [
    "# compare our param count to that reported by PyTorch\n",
    "f = flops(\n",
    "    n_embd=n_embd,\n",
    "    block_size=block_size,\n",
    "    vocab_size=vocab_size,\n",
    "    n_layer=n_layer,\n",
    "    n_head=n_head\n",
    ")\n",
    "flops_total = f['forward_total']\n",
    "print(f\"{'name':20s} {'flops':14s} {'ratio (%)':10s}\")\n",
    "for k,v in f.items():\n",
    "    print(f\"{k:20s} {v:14d} {v/flops_total*100:10.4f}\")"
   ]
  },
  {
   "cell_type": "code",
   "execution_count": 11,
   "metadata": {},
   "outputs": [
    {
     "name": "stdout",
     "output_type": "stream",
     "text": [
      "palm_flops: 138062462976, flops: 138032971776, ratio: 1.0002\n"
     ]
    }
   ],
   "source": [
    "pf =  palm_flops(n_embd=n_embd,\n",
    "    block_size=block_size,\n",
    "    vocab_size=vocab_size,\n",
    "    n_layer=n_layer,\n",
    "    n_head=n_head\n",
    "    )\n",
    "\n",
    "\n",
    "print(f\"palm_flops: {pf:d}, flops: {f['total']:d}, ratio: {pf/f['total']:.4f}\")"
   ]
  },
  {
   "cell_type": "code",
   "execution_count": 18,
   "metadata": {},
   "outputs": [
    {
     "name": "stdout",
     "output_type": "stream",
     "text": [
      "fraction of A100 used: 5.90%\n"
     ]
    }
   ],
   "source": [
    "# here is what we currently roughly measure\n",
    "batch_size = 20 * 5 # 5 is grad_accum, so total batch size is 100\n",
    "measured_time = 0.755 # in seconds per iteration\n",
    "measured_throughput = batch_size / measured_time\n",
    "flops_achieved = f['total'] * measured_throughput\n",
    "\n",
    "# A100 is cited to be 312 TFLOPS of bloat16 running on tensor cores\n",
    "a100_flops_promised = 309.7e12 \n",
    "\n",
    "# the fraction of the A100 that we are using:\n",
    "print(f\"fraction of A100 used: {flops_achieved / a100_flops_promised * 100:.2f}%\")"
   ]
  },
  {
   "cell_type": "code",
   "execution_count": 17,
   "metadata": {},
   "outputs": [
    {
     "name": "stdout",
     "output_type": "stream",
     "text": [
      "time needed to train the model: 2.39 days\n"
     ]
    }
   ],
   "source": [
    "# Finally let's check out the 6ND approximation as total cost of training in FLOPs\n",
    "n_gpus = 3\n",
    "model_size = p['total'] # this is number of parameters, N\n",
    "tokens_num = 300e9 # 300B tokens, this is dataset size in tokens, D\n",
    "a100_flops = 309.7e12 # 309.7 tflops (nvidia a 6000)\n",
    "assumed_mfu = 0.8 # assume this model flops utilization (take the current 37% from above and add some DDP overhead)\n",
    "flops_throughput = a100_flops * n_gpus * assumed_mfu # assume an 3xa6000\n",
    "flops_needed = 6 * model_size * tokens_num # 6ND\n",
    "time_needed_s = flops_needed / flops_throughput # in seconds\n",
    "print(f\"time needed to train the model: {time_needed_s/3600/24:.2f} days\")"
   ]
  },
  {
   "cell_type": "code",
   "execution_count": null,
   "metadata": {},
   "outputs": [],
   "source": []
  }
 ],
 "metadata": {
  "kernelspec": {
   "display_name": "LLM",
   "language": "python",
   "name": "python3"
  },
  "language_info": {
   "codemirror_mode": {
    "name": "ipython",
    "version": 3
   },
   "file_extension": ".py",
   "mimetype": "text/x-python",
   "name": "python",
   "nbconvert_exporter": "python",
   "pygments_lexer": "ipython3",
   "version": "3.11.9"
  }
 },
 "nbformat": 4,
 "nbformat_minor": 2
}
