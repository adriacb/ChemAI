{
 "cells": [
  {
   "cell_type": "code",
   "execution_count": 1,
   "metadata": {},
   "outputs": [
    {
     "name": "stderr",
     "output_type": "stream",
     "text": [
      "Failed to find the pandas get_adjustment() function to patch\n",
      "Failed to patch pandas - PandasTools will have limited functionality\n"
     ]
    }
   ],
   "source": [
    "import sys\n",
    "from itertools import chain, product\n",
    "from typing import List, Tuple, Optional, Any, Dict\n",
    "import pandas as pd\n",
    "from tqdm import tqdm\n",
    "\n",
    "from rdkit import Chem\n",
    "from rdkit.Chem import PandasTools\n",
    "\n",
    "sys.path.append('..')\n",
    "import torch.nn.functional as F\n",
    "from torch_geometric.loader import DataLoader\n",
    "from rhea.chem.molecule import Molecule\n",
    "from src.models.egnn import EquivariantGNN\n",
    "from src.models.diffusion import *\n",
    "from src.preprocessing.chem import molecule_to_Data\n",
    "from src.tools import *"
   ]
  },
  {
   "cell_type": "code",
   "execution_count": 2,
   "metadata": {},
   "outputs": [],
   "source": [
    "df = pd.read_pickle('../data/QM9/raw/gdb9.pkl')"
   ]
  },
  {
   "cell_type": "code",
   "execution_count": 3,
   "metadata": {},
   "outputs": [],
   "source": [
    "ATOM_TYPES = ['C', 'O', 'N', 'H', 'F', 'Cl', 'Br', 'I', 'P', 'S']\n",
    "\n",
    "# Example predefined bond types\n",
    "BOND_TYPES = [Chem.BondType.SINGLE, Chem.BondType.DOUBLE, Chem.BondType.TRIPLE, Chem.BondType.AROMATIC]\n",
    "\n",
    "def get_atom_type_one_hot(atom: Chem.Atom) -> torch.Tensor:\n",
    "    \"\"\"\n",
    "    Returns a one-hot encoded vector for the atom type.\n",
    "    \n",
    "    Args:\n",
    "        atom (Chem.Atom): RDKit atom object.\n",
    "    \n",
    "    Returns:\n",
    "        torch.Tensor: One-hot encoded atom type vector.\n",
    "    \"\"\"\n",
    "    atom_symbol = atom.GetSymbol()\n",
    "    one_hot_vector = torch.zeros(len(ATOM_TYPES), dtype=torch.float32)\n",
    "    if atom_symbol in ATOM_TYPES:\n",
    "        one_hot_vector[ATOM_TYPES.index(atom_symbol)] = 1.0\n",
    "    return one_hot_vector\n",
    "\n",
    "def get_bond_type_one_hot(bond: Chem.Bond) -> torch.Tensor:\n",
    "    \"\"\"\n",
    "    Returns a one-hot encoded vector for the bond type.\n",
    "    \n",
    "    Args:\n",
    "        bond (Chem.Bond): RDKit bond object.\n",
    "    \n",
    "    Returns:\n",
    "        torch.Tensor: One-hot encoded bond type vector.\n",
    "    \"\"\"\n",
    "    bond_type = bond.GetBondType()\n",
    "    one_hot_vector = torch.zeros(len(BOND_TYPES), dtype=torch.float32)\n",
    "    if bond_type in BOND_TYPES:\n",
    "        one_hot_vector[BOND_TYPES.index(bond_type)] = 1.0\n",
    "    return one_hot_vector\n",
    "\n",
    "def molecule_to_Data(mol: Molecule, \n",
    "                     idx: int = 0,\n",
    "                     target: torch.Tensor = torch.tensor([0], dtype=torch.float32)\n",
    "                                ) -> Data:\n",
    "    \"\"\"\n",
    "    Converts a molecule into a torch geometric `Data` object with noise scaling schedule.\n",
    "    \n",
    "    The structure of the `Data` object is as follows:\n",
    "    ```\n",
    "            {\n",
    "                'x': torch.Tensor,                   # node features (one-hot encoded atom types)\n",
    "                'edge_index': torch.Tensor,          # edges between atoms derived from covalent bonds (source_n, target_n)\n",
    "                'edge_attr': torch.Tensor,           # bond features (one-hot encoded bond types)\n",
    "                'y': torch.Tensor,                   # target\n",
    "                'pos': torch.Tensor,                 # atomic coordinates\n",
    "                'idx': torch.Tensor,                 # index of the molecule\n",
    "                'name': str,                         # molecule name\n",
    "                'z': torch.Tensor,                   # atomic numbers\n",
    "                'complete_edge_index': torch.Tensor  # complete graph connectivity\n",
    "            }\n",
    "    ```\n",
    "    \n",
    "    Args:\n",
    "        mol (Chem.Mol): The molecule.\n",
    "        beta (float): Noise scaling schedule parameter.\n",
    "        target (torch.Tensor, optional): The target. Defaults to torch.tensor([0], dtype=torch.float32).\n",
    "    \n",
    "    Returns:\n",
    "        Data: The molecule as a `Data` object.\n",
    "    \"\"\"\n",
    "\n",
    "    data = dict()\n",
    "    data['name'] = mol.molecule.GetProp('_Name') if mol.molecule.HasProp('_Name') else \"Molecule_{}\".format(idx)\n",
    "    data['smiles'] = Chem.MolToSmiles(mol.molecule)\n",
    "    coordinates = mol.get_coordinates()\n",
    "    pos = torch.tensor(coordinates, dtype=torch.float32)\n",
    "    data['pos'] = pos\n",
    "    \n",
    "    x = []                                                                                          \n",
    "    edge_index = []                                                                                 \n",
    "    edge_attr = []\n",
    "    bond_matrix = torch.zeros((len(mol.GetAtoms()), len(mol.GetAtoms()), len(BOND_TYPES)), dtype=torch.float32)\n",
    "    \n",
    "    for atom in mol.GetAtoms():\n",
    "\n",
    "        atom_type = get_atom_type_one_hot(atom)\n",
    "        x.append(atom_type)\n",
    "\n",
    "    for bond in mol.GetBonds():\n",
    "\n",
    "        bond_type = get_bond_type_one_hot(bond)\n",
    "        bond_matrix[bond.GetBeginAtomIdx(), bond.GetEndAtomIdx()] = bond_type\n",
    "        bond_matrix[bond.GetEndAtomIdx(), bond.GetBeginAtomIdx()] = bond_type\n",
    "        edge_attr.append(bond_type)\n",
    "        edge_index.append([bond.GetBeginAtomIdx(), bond.GetEndAtomIdx()])\n",
    "    \n",
    "    data['x'] = torch.stack(x, dim=0)\n",
    "    data['edge_index'] = torch.tensor(edge_index, dtype=torch.long).t().contiguous()\n",
    "    if len(edge_attr) == 0:\n",
    "        edge_attr = torch.zeros((data['edge_index'].size(1), len(BOND_TYPES)), dtype=torch.float32)\n",
    "    data['edge_attr'] = torch.stack(edge_attr, dim=0)\n",
    "    data['z'] = data['x'][:, 1].long()\n",
    "    data['idx'] = torch.tensor([idx], dtype=torch.long)\n",
    "\n",
    "    data['complete_edge_index'] = torch.tensor([[i, j] for i in range(data['x'].size(0)) \\\n",
    "        for j in range(data['x'].size(0)) if i != j], dtype=torch.long).t().contiguous()\n",
    "\n",
    "    data['y'] = target\n",
    "    data['bond_matrix'] = bond_matrix\n",
    "\n",
    "    return Data(**data)"
   ]
  },
  {
   "cell_type": "code",
   "execution_count": 4,
   "metadata": {},
   "outputs": [
    {
     "name": "stdout",
     "output_type": "stream",
     "text": [
      "Data(x=[5, 10], edge_index=[2, 5], edge_attr=[5, 4], y=[1], pos=[5, 3], name='Molecule_0', smiles='C1=CCOC1', z=[5], idx=[1], complete_edge_index=[2, 20], bond_matrix=[5, 5, 4])\n"
     ]
    }
   ],
   "source": [
    "\n",
    "m = df.ROMol.iloc[50]\n",
    "#m = Chem.AddHs(m, addCoords=True) # Hs are not considered because they can be easily added later\n",
    "m = Molecule(m)\n",
    "d = molecule_to_Data(m, 0)\n",
    "print(d)"
   ]
  },
  {
   "cell_type": "code",
   "execution_count": 5,
   "metadata": {},
   "outputs": [
    {
     "data": {
      "image/png": "[encoded data removed]",
      "text/plain": [
       "<rhea.chem.molecule.Molecule at 0x2c3d388ccb0>"
      ]
     },
     "execution_count": 5,
     "metadata": {},
     "output_type": "execute_result"
    }
   ],
   "source": [
    "m"
   ]
  },
  {
   "cell_type": "code",
   "execution_count": 6,
   "metadata": {},
   "outputs": [
    {
     "data": {
      "text/plain": [
       "Data(x=[5, 10], edge_index=[2, 5], edge_attr=[5, 4], y=[1], pos=[5, 3], name='Molecule_0', smiles='C1=CCOC1', z=[5], idx=[1], complete_edge_index=[2, 20], bond_matrix=[5, 5, 4])"
      ]
     },
     "execution_count": 6,
     "metadata": {},
     "output_type": "execute_result"
    }
   ],
   "source": [
    "d"
   ]
  },
  {
   "cell_type": "code",
   "execution_count": 7,
   "metadata": {},
   "outputs": [],
   "source": [
    "# dataset = []\n",
    "# # Create a Dataset\n",
    "# for idx, i in enumerate(tqdm(range(len(df)))):#len(df)\n",
    "#     m = df.ROMol.iloc[i]\n",
    "#    #m = Chem.AddHs(m, addCoords=True) # Hs are not considered because they can be easily added later\n",
    "#     m = Molecule(m)\n",
    "#     d = molecule_to_Data(m, idx)\n",
    "#     dataset.append(d)"
   ]
  },
  {
   "cell_type": "markdown",
   "metadata": {},
   "source": [
    "# Forward Process\n",
    "\n",
    "- Adds noise to the data based on a pre-defined noise schedule.\n",
    "- t denote variables at time step $t(t = 0,1,...T)$\n",
    "- $M^t$ is sampled from the distribution $q(M^t | M^{t-1})$ only conditioned on $M^{t-1}$.\n",
    "- For atom types and bond types we represent them using categorical distributions.\n",
    "    - $q(r^{t}_i | r^{t-1}_i) := \\mathcal{N}(r^{t}_i | \\sqrt{1-\\beta^{t} r^{t-1}_i}, \\beta^{t}\\mathbb{I})$\n",
    "    - $q(a^{t}_i | a^{t-1}_i) := \\mathcal{C}(a^{t}_i | (1-\\beta^{t}) a^{t-1}_i, \\beta^{t}\\mathbb{1}_k)$ \n",
    "    - $q(b^{t}_{ij} | b^{t-1}_{ij}) := \\mathcal{C}(b^{t}_{ij} | (1-\\beta^{t}) b^{t-1}_{ij}, \\beta^{t}\\mathbb{1}_k)$\n",
    "- $\\beta^t \\in [0,1]$ (noise scaling schedule).\n",
    "- $\\mathbb{I}^{3x3}$ is the identity matrix.\n",
    "- $\\mathbb{1}_k$ represents a one-hot vector with one at the kth position and all the others zeros."
   ]
  },
  {
   "cell_type": "code",
   "execution_count": 8,
   "metadata": {},
   "outputs": [],
   "source": [
    "def plot_point_cloud_3d(\n",
    "    fig: mpl.figure.Figure,\n",
    "    ax_pos: int,\n",
    "    pos: np.ndarray,\n",
    "    cmap: str = \"plasma\",\n",
    "    point_size: float = 180.0,\n",
    "    label_axes: bool = False,\n",
    "    remove_axes_ticks: bool = True,\n",
    "    cbar_label: str = \"\",\n",
    ") -> mpl.axis.Axis:\n",
    "    \"\"\"Visualize colored 3D point clouds.\n",
    "\n",
    "    Parameters\n",
    "    ----------\n",
    "    fig : mpl.figure.Figure\n",
    "        The figure for which a new axis object is added for plotting\n",
    "    ax_pos : int\n",
    "        Three-digit integer specifying axis layout and position\n",
    "        (see docs for `mpl.figure.Figure.add_subplot`)\n",
    "    pos : np.ndarray\n",
    "        The point xyz-coordinates as an array\n",
    "    cmap : str, optional\n",
    "        String identifier for a matplotlib colormap.\n",
    "        Is used to map the values in `color` to rgb colors.\n",
    "        , by default \"plasma\"\n",
    "    point_size : float, optional\n",
    "        The size of plotted points, by default 180.0\n",
    "    label_axes : bool, optional\n",
    "        whether to label x,y and z axes by default False\n",
    "    annotate_points : bool, optional\n",
    "        whether to label points with their index, by default True\n",
    "    cbar_label : str, optional\n",
    "        label for the colorbar, by default \"\"\n",
    "\n",
    "    Returns\n",
    "    -------\n",
    "    mpl.axis.Axis\n",
    "        The new axis object for the 3D point cloud plot.\n",
    "    \"\"\"\n",
    "    cmap = mpl.colormaps.get_cmap(cmap)\n",
    "    ax = fig.add_subplot(ax_pos, projection=\"3d\")\n",
    "    x, y, z = pos\n",
    "    if remove_axes_ticks:\n",
    "        ax.set_xticklabels([])\n",
    "        ax.set_yticklabels([])\n",
    "        ax.set_zticklabels([])\n",
    "    if label_axes:\n",
    "        ax.set_xlabel(\"$x$ coordinate\")\n",
    "        ax.set_ylabel(\"$y$ coordinate\")\n",
    "        ax.set_zlabel(\"$z$ coordinate\")\n",
    "    sc = ax.scatter(x, y, z, cmap=cmap, s=point_size)\n",
    "    plt.colorbar(sc, location=\"bottom\", shrink=0.6, anchor=(0.5, 2), label=cbar_label)\n",
    "    \n",
    "    return ax\n",
    "\n",
    "def plot_model_input(data: Data, fig: mpl.figure.Figure, ax_pos: int) -> mpl.axis.Axis:\n",
    "    \"\"\"\n",
    "    Plots 3D point cloud model input represented by a torch geometric\n",
    "    `Data` object. Use atomic numbers as colors.\n",
    "\n",
    "    Parameters\n",
    "    ----------\n",
    "    data : Data\n",
    "        The 3D point cloud. Must have atomic numbers `z` and 2D coordinates `pos`\n",
    "        properties that are not `None`.\n",
    "    fig: mpl.figure.Figure\n",
    "        The maptlotlib figure to plot on.\n",
    "    ax_pos:\n",
    "        Three-digit integer specifying axis layout and position\n",
    "        (see docs for `mpl.figure.Figure.add_subplot`).\n",
    "\n",
    "    Returns\n",
    "    -------\n",
    "    mpl.axis.Axis\n",
    "        The newly created axis object.\n",
    "    \"\"\"\n",
    "    pos = data.pos\n",
    "\n",
    "    pos = pos.T.detach().numpy()\n",
    "    return plot_point_cloud_3d(fig, ax_pos, pos, cbar_label=\"Atomic number\")\n"
   ]
  },
  {
   "cell_type": "code",
   "execution_count": 9,
   "metadata": {},
   "outputs": [
    {
     "name": "stderr",
     "output_type": "stream",
     "text": [
      "C:\\Users\\cabe\\AppData\\Local\\Temp\\ipykernel_40872\\3093895224.py:51: UserWarning: No data for colormapping provided via 'c'. Parameters 'cmap' will be ignored\n",
      "  sc = ax.scatter(x, y, z, cmap=cmap, s=point_size)\n"
     ]
    },
    {
     "data": {
      "image/png": "[encoded data removed]",
      "text/plain": [
       "<Figure size 640x480 with 2 Axes>"
      ]
     },
     "metadata": {},
     "output_type": "display_data"
    }
   ],
   "source": [
    "fig = plt.figure()\n",
    "ax = plot_model_input(d, fig, 111)\n",
    "_ = ax.set_title(f\"data: {d['name']}\")"
   ]
  },
  {
   "cell_type": "code",
   "execution_count": 10,
   "metadata": {},
   "outputs": [],
   "source": [
    "def segment_schedule(timesteps: int, time_segment: list, segment_diff: list) -> torch.Tensor:\n",
    "    \"\"\"\n",
    "    Generates a schedule for beta values over different segments.\n",
    "\n",
    "    Parameters:\n",
    "        timesteps (int): Total number of timesteps.\n",
    "        time_segment (list): List of segment lengths.\n",
    "        segment_diff (list): List of dictionaries with parameters for each segment.\n",
    "\n",
    "    Returns:\n",
    "        torch.Tensor: Beta values for the entire schedule.\n",
    "    \"\"\"\n",
    "    assert np.sum(time_segment) == timesteps\n",
    "\n",
    "    alphas_cumprod = []\n",
    "\n",
    "    for i in range(len(time_segment)):\n",
    "        time_this = time_segment[i] + 1\n",
    "        params = segment_diff[i]\n",
    "        _, alphas_this = advance_schedule(time_this, **params, return_alphas_bar=True)\n",
    "        alphas_cumprod.extend(alphas_this[1:])\n",
    "\n",
    "    alphas_cumprod = np.array(alphas_cumprod)\n",
    "    \n",
    "    alphas = np.zeros_like(alphas_cumprod)\n",
    "    alphas[0] = alphas_cumprod[0]\n",
    "    alphas[1:] = alphas_cumprod[1:] / alphas_cumprod[:-1]\n",
    "    betas = 1 - alphas\n",
    "    betas = np.clip(betas, 0, 1)\n",
    "\n",
    "    return torch.tensor(betas, dtype=torch.float32)\n",
    "\n",
    "def sigmoid(x: float) -> float:\n",
    "    \"\"\"\n",
    "    Sigmoid function.\n",
    "    \"\"\"\n",
    "    return 1 / (1 + np.exp(-x))\n",
    "\n",
    "def advance_schedule(\n",
    "        timesteps: int, \n",
    "        scale_start:float, \n",
    "        scale_end: float,\n",
    "        width: int,\n",
    "        return_alphas_bar: bool = False\n",
    "        ) -> Tuple[torch.Tensor, torch.Tensor]:\n",
    "    \"\"\"\n",
    "    Generates a schedule for beta values over different segments.\n",
    "    \"\"\"\n",
    "    k = width\n",
    "    A0 = scale_end\n",
    "    A1 = scale_start\n",
    "\n",
    "    a = (A0-A1)/(sigmoid(-k) - sigmoid(k))\n",
    "    b = 0.5 * (A0 + A1 - a)\n",
    "\n",
    "    x = np.linspace(-1, 1, timesteps)\n",
    "    y = a * sigmoid(- k * x) + b\n",
    "    # print(y)\n",
    "    \n",
    "    alphas_cumprod = y \n",
    "    alphas = np.zeros_like(alphas_cumprod)\n",
    "    alphas[0] = alphas_cumprod[0]\n",
    "    alphas[1:] = alphas_cumprod[1:] / alphas_cumprod[:-1]\n",
    "    betas = 1 - alphas\n",
    "    betas = np.clip(betas, 0, 1)\n",
    "    if return_alphas_bar:\n",
    "        return torch.tensor(betas, dtype=torch.float32), torch.tensor(alphas, dtype=torch.float32)\n",
    "    return torch.tensor(betas, dtype=torch.float32)\n",
    "\n",
    "def forward_diffusion(data: dict, t: int, timesteps:int) -> dict:\n",
    "    \"\"\"\n",
    "    Adds noise to the molecule data based on the given noise schedule at time step t.\n",
    "    \n",
    "    Args:\n",
    "        data (dict): The molecule data containing atom types, bond types, and positions.\n",
    "        t (int): The current time step.\n",
    "        betas (torch.Tensor): The noise scaling schedule tensor.\n",
    "    \n",
    "    Returns:\n",
    "        dict: The noisy molecule data.\n",
    "    \"\"\"\n",
    "   \n",
    "    noisy_data = {}\n",
    "    \n",
    "    # Apply noise to positions\n",
    "    betas = beta_schedule(timesteps, scale_start=0.9999, scale_end=0.0001, type='advance', width=3)\n",
    "    alphas = 1 - betas\n",
    "    alpha_hat = torch.cumprod(alphas, dim=0)\n",
    "    pos = data['pos']\n",
    "    noise = torch.randn_like(pos)\n",
    "    alpha_t = alpha_hat[t]\n",
    "    mean = torch.sqrt(alpha_t) * pos\n",
    "    variance = torch.sqrt(1 - alpha_t) * noise\n",
    "    noisy_pos = mean + variance\n",
    "    noisy_data['pos'] = noisy_pos\n",
    "    \n",
    "    # Apply noise to atom types (Categorical noise)\n",
    "    betas = beta_schedule(timesteps, scale_start=0.9999, scale_end=0.0001, type='advance', width=3)\n",
    "    alphas = 1 - betas\n",
    "    alpha_hat = torch.cumprod(alphas, dim=0)\n",
    "    atom_types = data['x']\n",
    "    alpha_t = alpha_hat[t].reshape(1, -1)\n",
    "    noise = torch.rand_like(atom_types)  # Use uniform noise for categorical data\n",
    "    noisy_atom_types = torch.sqrt(alpha_t) * atom_types + torch.sqrt(1 - alpha_t) * noise\n",
    "    noisy_atom_types = F.softmax(noisy_atom_types, dim=-1)\n",
    "    noisy_data['x'] = noisy_atom_types\n",
    "    \n",
    "    # Apply noise to bond types (Categorical noise)\n",
    "    betas = beta_schedule(\n",
    "        timesteps, \n",
    "        time_segment=[600, 400], \n",
    "        segment_diff=[\n",
    "            {'scale_start': 0.9999, 'scale_end': 0.001, 'width': 3}, \n",
    "            {'scale_start': 0.001, 'scale_end': 0.0001, 'width': 2}],\n",
    "            type = 'segment'\n",
    "            )\n",
    "    bond_types = data['edge_attr']\n",
    "    alphas = 1 - betas\n",
    "    alpha_hat = torch.cumprod(alphas, dim=0)\n",
    "    alpha_t = alpha_hat[t].reshape(1, -1)\n",
    "    noise = torch.rand_like(bond_types)  # Use uniform noise for categorical data\n",
    "    noisy_bond_types = torch.sqrt(alpha_t) * bond_types + torch.sqrt(1 - alpha_t) * noise\n",
    "    noisy_bond_types = F.softmax(noisy_bond_types, dim=-1)\n",
    "    noisy_data['edge_attr'] = noisy_bond_types\n",
    "    \n",
    "    # Preserve other data\n",
    "    noisy_data['edge_index'] = data['edge_index']\n",
    "    noisy_data['z'] = data['z']\n",
    "    noisy_data['idx'] = data['idx']\n",
    "    noisy_data['complete_edge_index'] = data['complete_edge_index']\n",
    "    noisy_data['y'] = data['y']\n",
    "    noisy_data['name'] = data['name']\n",
    "    noisy_data['smiles'] = data['smiles']\n",
    "    noisy_data['bond_matrix'] = data['bond_matrix']\n",
    "    \n",
    "    return Data(**noisy_data)\n"
   ]
  },
  {
   "cell_type": "code",
   "execution_count": 11,
   "metadata": {},
   "outputs": [
    {
     "ename": "TypeError",
     "evalue": "advance_schedule() got an unexpected keyword argument 'type'",
     "output_type": "error",
     "traceback": [
      "\u001b[1;31m---------------------------------------------------------------------------\u001b[0m",
      "\u001b[1;31mTypeError\u001b[0m                                 Traceback (most recent call last)",
      "Cell \u001b[1;32mIn[11], line 5\u001b[0m\n\u001b[0;32m      3\u001b[0m \u001b[38;5;66;03m# Assuming `d` is your molecule data from previous code\u001b[39;00m\n\u001b[0;32m      4\u001b[0m \u001b[38;5;28;01mfor\u001b[39;00m t \u001b[38;5;129;01min\u001b[39;00m \u001b[38;5;28mrange\u001b[39m(T):\n\u001b[1;32m----> 5\u001b[0m     noisy_data \u001b[38;5;241m=\u001b[39m forward_diffusion(d, t, T)\n\u001b[0;32m      6\u001b[0m     \u001b[38;5;28;01mif\u001b[39;00m t \u001b[38;5;241m%\u001b[39m \u001b[38;5;241m50\u001b[39m \u001b[38;5;241m==\u001b[39m \u001b[38;5;241m0\u001b[39m:\n\u001b[0;32m      7\u001b[0m         fig \u001b[38;5;241m=\u001b[39m plt\u001b[38;5;241m.\u001b[39mfigure()\n",
      "Cell \u001b[1;32mIn[10], line 98\u001b[0m, in \u001b[0;36mforward_diffusion\u001b[1;34m(data, t, timesteps)\u001b[0m\n\u001b[0;32m     95\u001b[0m noisy_data[\u001b[38;5;124m'\u001b[39m\u001b[38;5;124mpos\u001b[39m\u001b[38;5;124m'\u001b[39m] \u001b[38;5;241m=\u001b[39m noisy_pos\n\u001b[0;32m     97\u001b[0m \u001b[38;5;66;03m# Apply noise to atom types (Categorical noise)\u001b[39;00m\n\u001b[1;32m---> 98\u001b[0m betas \u001b[38;5;241m=\u001b[39m advance_schedule(timesteps, scale_start\u001b[38;5;241m=\u001b[39m\u001b[38;5;241m0.9999\u001b[39m, scale_end\u001b[38;5;241m=\u001b[39m\u001b[38;5;241m0.0001\u001b[39m, \u001b[38;5;28mtype\u001b[39m\u001b[38;5;241m=\u001b[39m\u001b[38;5;124m'\u001b[39m\u001b[38;5;124madvance\u001b[39m\u001b[38;5;124m'\u001b[39m, width\u001b[38;5;241m=\u001b[39m\u001b[38;5;241m3\u001b[39m)\n\u001b[0;32m     99\u001b[0m alphas \u001b[38;5;241m=\u001b[39m \u001b[38;5;241m1\u001b[39m \u001b[38;5;241m-\u001b[39m betas\n\u001b[0;32m    100\u001b[0m alpha_hat \u001b[38;5;241m=\u001b[39m torch\u001b[38;5;241m.\u001b[39mcumprod(alphas, dim\u001b[38;5;241m=\u001b[39m\u001b[38;5;241m0\u001b[39m)\n",
      "\u001b[1;31mTypeError\u001b[0m: advance_schedule() got an unexpected keyword argument 'type'"
     ]
    }
   ],
   "source": [
    "T = 1000  # Total number of time steps\n",
    "\n",
    "# Assuming `d` is your molecule data from previous code\n",
    "for t in range(T):\n",
    "    noisy_data = forward_diffusion(d, t, T)\n",
    "    if t % 50 == 0:\n",
    "        fig = plt.figure()\n",
    "        ax = plot_model_input(noisy_data, fig, 111)\n",
    "        _ = ax.set_title(f\"Noisy data at time step {t}\")\n",
    "        plt.show()"
   ]
  },
  {
   "cell_type": "code",
   "execution_count": null,
   "metadata": {},
   "outputs": [],
   "source": []
  },
  {
   "cell_type": "code",
   "execution_count": null,
   "metadata": {},
   "outputs": [
    {
     "data": {
      "text/plain": [
       "1"
      ]
     },
     "execution_count": 23,
     "metadata": {},
     "output_type": "execute_result"
    }
   ],
   "source": [
    "noisy_data.num_edge_types"
   ]
  },
  {
   "cell_type": "code",
   "execution_count": null,
   "metadata": {},
   "outputs": [],
   "source": []
  }
 ],
 "metadata": {
  "kernelspec": {
   "display_name": "MLChem",
   "language": "python",
   "name": "python3"
  },
  "language_info": {
   "codemirror_mode": {
    "name": "ipython",
    "version": 3
   },
   "file_extension": ".py",
   "mimetype": "text/x-python",
   "name": "python",
   "nbconvert_exporter": "python",
   "pygments_lexer": "ipython3",
   "version": "3.12.4"
  }
 },
 "nbformat": 4,
 "nbformat_minor": 2
}
