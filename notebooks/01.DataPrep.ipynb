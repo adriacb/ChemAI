{
 "cells": [
  {
   "cell_type": "code",
   "execution_count": null,
   "metadata": {},
   "outputs": [],
   "source": [
    "from rdkit import Chem\n",
    "from rdkit.Chem import AllChem\n",
    "from rhea.db.zinc20 import Zinc20\n",
    "from rhea.chem.molecule import Molecule\n",
    "from titan.llm.tools import PromptStructure"
   ]
  },
  {
   "cell_type": "code",
   "execution_count": null,
   "metadata": {},
   "outputs": [],
   "source": [
    "samples = 30_000\n",
    "num_transforms = 5\n",
    "stop = False\n",
    "eos = '<eos>'\n",
    "\n",
    "with Zinc20() as db:\n",
    "    c = 0\n",
    "    for mol in db.iter_mols():\n",
    "       \n",
    "        mol = Chem.AddHs(mol)\n",
    "        # TO 3D1\n",
    "        AllChem.EmbedMolecule(mol)\n",
    "        try:\n",
    "            AllChem.MMFFOptimizeMolecule(mol)\n",
    "        except ValueError:\n",
    "            print('Failed to optimize molecule', end='\\r')\n",
    "            continue\n",
    "        \n",
    "        try:\n",
    "            Chem.SanitizeMol(mol)   \n",
    "            m = Molecule(mol=mol)\n",
    "            no_hs = Chem.RemoveHs(m.molecule)\n",
    "        except ValueError:\n",
    "            continue\n",
    "        \n",
    "        for _ in range(num_transforms):    \n",
    "            m = Molecule(mol=no_hs)\n",
    "            m.transform_random()                        # random transformation (rot, trans)\n",
    "            converter = PromptStructure()\n",
    "            p = converter.to_prompt(m)                  # <MOL>smile\\n<XYZ>coordinates\n",
    "            # append to file\n",
    "            with open(f'./data/xyz_mols/input.txt', 'a') as f:\n",
    "                f.write(p)\n",
    "                f.write('\\n')\n",
    "            new_mol = converter.str_to_molecule(p)\n",
    "            \n",
    "            c += 1\n",
    "            print(c, end='\\r')\n",
    "            \n",
    "        if c == samples and stop:\n",
    "            break        "
   ]
  }
 ],
 "metadata": {
  "language_info": {
   "name": "python"
  }
 },
 "nbformat": 4,
 "nbformat_minor": 2
}
