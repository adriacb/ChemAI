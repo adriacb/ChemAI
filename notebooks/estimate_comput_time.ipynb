{
 "cells": [
  {
   "cell_type": "code",
   "execution_count": 13,
   "metadata": {},
   "outputs": [],
   "source": [
    "import yaml\n",
    "\n",
    "def transformer_count_params(d_model=512, d_ff=2048, encoder=True, approx=False):\n",
    "    pass\n",
    "\n",
    "with open('../llm/config/train.yml', 'r') as f:\n",
    "    config = yaml.safe_load(f)"
   ]
  },
  {
   "cell_type": "code",
   "execution_count": 14,
   "metadata": {},
   "outputs": [],
   "source": [
    "vocab_size = 267                                                  # V \n",
    "embedding_dim = config[\"DecoderTransformer\"][\"embedding_dim\"]     # E or dmodel\n",
    "n_layers = config[\"DecoderTransformer\"][\"n_layers\"]               # n_layers\n",
    "n_heads = config[\"DecoderTransformer\"][\"num_heads\"]               # num_heads\n",
    "context_window = config[\"DecoderTransformer\"][\"context_size\"]     # "
   ]
  },
  {
   "cell_type": "code",
   "execution_count": 15,
   "metadata": {},
   "outputs": [
    {
     "data": {
      "text/plain": [
       "5123584"
      ]
     },
     "execution_count": 15,
     "metadata": {},
     "output_type": "execute_result"
    }
   ],
   "source": [
    "transformer_count_params(\n",
    "    d_model=embedding_dim,\n",
    "    d_ff=context_window,\n",
    "    encoder=False\n",
    ")\n",
    "#85661450"
   ]
  },
  {
   "cell_type": "code",
   "execution_count": null,
   "metadata": {},
   "outputs": [],
   "source": []
  }
 ],
 "metadata": {
  "kernelspec": {
   "display_name": "env",
   "language": "python",
   "name": "python3"
  },
  "language_info": {
   "codemirror_mode": {
    "name": "ipython",
    "version": 3
   },
   "file_extension": ".py",
   "mimetype": "text/x-python",
   "name": "python",
   "nbconvert_exporter": "python",
   "pygments_lexer": "ipython3",
   "version": "3.11.9"
  }
 },
 "nbformat": 4,
 "nbformat_minor": 2
}
