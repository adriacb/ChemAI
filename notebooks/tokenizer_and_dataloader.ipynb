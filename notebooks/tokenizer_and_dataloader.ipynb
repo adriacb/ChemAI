{
 "cells": [
  {
   "cell_type": "code",
   "execution_count": 1,
   "metadata": {},
   "outputs": [
    {
     "name": "stderr",
     "output_type": "stream",
     "text": [
      "c:\\Users\\cabe\\anaconda3\\envs\\MLChem\\Lib\\site-packages\\transformers\\tokenization_utils_base.py:1601: FutureWarning: `clean_up_tokenization_spaces` was not set. It will be set to `True` by default. This behavior will be depracted in transformers v4.45, and will be then set to `False` by default. For more details check this issue: https://github.com/huggingface/transformers/issues/31884\n",
      "  warnings.warn(\n"
     ]
    }
   ],
   "source": [
    "import re\n",
    "import sys\n",
    "import random\n",
    "from typing import List, Dict\n",
    "sys.path.append('..')\n",
    "from llm.tokenizer import LigandTokenizer\n",
    "from IPython.display import display, HTML\n",
    "\n",
    "def colorize_tokens(tokens: List[str], colors: List[str]) -> str:\n",
    "    \"\"\"\n",
    "    Colorize tokens based on provided colors, preserving spaces and newlines.\n",
    "    \"\"\"\n",
    "    colored_text = \"\"\n",
    "    for token, color in zip(tokens, colors):\n",
    "        if token == \"\\n\":\n",
    "            colored_text += \"<br>\"  # Replace newlines with <br> for HTML\n",
    "        else:\n",
    "            colored_text += f\"<span style='color: {color}; white-space: pre;'>{token}</span>\"\n",
    "    return colored_text\n",
    "\n",
    "def highlight_tokens_with_map(tokens: List[str], color_map: Dict[str, str]) -> str:\n",
    "    \"\"\"\n",
    "    Highlight tokens using a predefined color map.\n",
    "    \"\"\"\n",
    "    highlighted_text = \"\"\n",
    "    for token in tokens:\n",
    "        if token == \"\\n\":\n",
    "            highlighted_text += \"<br>\"  # Replace newlines with <br> for HTML\n",
    "        else:\n",
    "            # Escape HTML tags\n",
    "            token_display = token.replace(\"<\", \"&lt;\").replace(\">\", \"&gt;\")\n",
    "            color = color_map.get(token, \"#FFFFFF\")  # Default to white if token not found\n",
    "            highlighted_text += f\"<span style='background-color: {color}; white-space: pre;'>{token_display}</span>\"\n",
    "    return highlighted_text\n",
    "\n",
    "def generate_color_map(tokens: List[str]) -> Dict[str, str]:\n",
    "    \"\"\"\n",
    "    Generate a unique color for each unique token.\n",
    "    \"\"\"\n",
    "    unique_tokens = set(tokens)\n",
    "    color_map = {}\n",
    "    \n",
    "    for token in unique_tokens:\n",
    "        color_map[token] = f\"#{random.randint(0, 0xFFFFFF):06x}\"\n",
    "    \n",
    "    return color_map"
   ]
  },
  {
   "cell_type": "code",
   "execution_count": 2,
   "metadata": {},
   "outputs": [],
   "source": [
    "test = \"\"\"<LIGAND>\n",
    "Cn1c(=O)c2c(ncn2C)n(C)c1=O\n",
    "<XYZ>\n",
    "C 3.2932 0.3895 0.2537\n",
    "N 2.1108 -0.4198 0.1026\n",
    "C 2.0698 -1.7874 0.0333\n",
    "N 0.8358 -2.2304 -0.1052\n",
    "C 0.0712 -1.1032 -0.1240\n",
    "C 0.8238 0.0247 0.0014\n",
    "C 0.2701 1.3335 0.0113\n",
    "O 0.9576 2.3440 0.1250\n",
    "N -1.1216 1.3332 -0.1210\n",
    "C -1.8079 2.6102 -0.1253\n",
    "C -1.9352 0.1881 -0.2531\n",
    "O -3.1606 0.2905 -0.3648\n",
    "N -1.2957 -1.0520 -0.2516\n",
    "C -2.0603 -2.2787 -0.3829\n",
    "<eos>\"\"\""
   ]
  },
  {
   "cell_type": "code",
   "execution_count": 3,
   "metadata": {},
   "outputs": [],
   "source": [
    "tknz = LigandTokenizer()\n",
    "tknz.build_vocab([test])"
   ]
  },
  {
   "cell_type": "code",
   "execution_count": 4,
   "metadata": {},
   "outputs": [
    {
     "data": {
      "text/plain": [
       "['<LIGAND>',\n",
       " '\\n',\n",
       " 'C',\n",
       " 'n',\n",
       " '1',\n",
       " 'c',\n",
       " '(',\n",
       " '=',\n",
       " 'O',\n",
       " ')',\n",
       " 'c',\n",
       " '2',\n",
       " 'c',\n",
       " '(',\n",
       " 'n',\n",
       " 'c',\n",
       " 'n',\n",
       " '2',\n",
       " 'C',\n",
       " ')',\n",
       " 'n',\n",
       " '(',\n",
       " 'C',\n",
       " ')',\n",
       " 'c',\n",
       " '1',\n",
       " '=',\n",
       " 'O',\n",
       " '\\n',\n",
       " '<XYZ>',\n",
       " '\\n',\n",
       " 'C',\n",
       " ' ',\n",
       " '3',\n",
       " '.2932',\n",
       " ' ',\n",
       " '0',\n",
       " '.3895',\n",
       " ' ',\n",
       " '0',\n",
       " '.2537',\n",
       " '\\n',\n",
       " 'N',\n",
       " ' ',\n",
       " '2',\n",
       " '.1108',\n",
       " ' ',\n",
       " '-0',\n",
       " '.4198',\n",
       " ' ',\n",
       " '0',\n",
       " '.1026',\n",
       " '\\n',\n",
       " 'C',\n",
       " ' ',\n",
       " '2',\n",
       " '.0698',\n",
       " ' ',\n",
       " '-1',\n",
       " '.7874',\n",
       " ' ',\n",
       " '0',\n",
       " '.0333',\n",
       " '\\n',\n",
       " 'N',\n",
       " ' ',\n",
       " '0',\n",
       " '.8358',\n",
       " ' ',\n",
       " '-2',\n",
       " '.2304',\n",
       " ' ',\n",
       " '-0',\n",
       " '.1052',\n",
       " '\\n',\n",
       " 'C',\n",
       " ' ',\n",
       " '0',\n",
       " '.0712',\n",
       " ' ',\n",
       " '-1',\n",
       " '.1032',\n",
       " ' ',\n",
       " '-0',\n",
       " '.1240',\n",
       " '\\n',\n",
       " 'C',\n",
       " ' ',\n",
       " '0',\n",
       " '.8238',\n",
       " ' ',\n",
       " '0',\n",
       " '.0247',\n",
       " ' ',\n",
       " '0',\n",
       " '.0014',\n",
       " '\\n',\n",
       " 'C',\n",
       " ' ',\n",
       " '0',\n",
       " '.2701',\n",
       " ' ',\n",
       " '1',\n",
       " '.3335',\n",
       " ' ',\n",
       " '0',\n",
       " '.0113',\n",
       " '\\n',\n",
       " 'O',\n",
       " ' ',\n",
       " '0',\n",
       " '.9576',\n",
       " ' ',\n",
       " '2',\n",
       " '.3440',\n",
       " ' ',\n",
       " '0',\n",
       " '.1250',\n",
       " '\\n',\n",
       " 'N',\n",
       " ' ',\n",
       " '-1',\n",
       " '.1216',\n",
       " ' ',\n",
       " '1',\n",
       " '.3332',\n",
       " ' ',\n",
       " '-0',\n",
       " '.1210',\n",
       " '\\n',\n",
       " 'C',\n",
       " ' ',\n",
       " '-1',\n",
       " '.8079',\n",
       " ' ',\n",
       " '2',\n",
       " '.6102',\n",
       " ' ',\n",
       " '-0',\n",
       " '.1253',\n",
       " '\\n',\n",
       " 'C',\n",
       " ' ',\n",
       " '-1',\n",
       " '.9352',\n",
       " ' ',\n",
       " '0',\n",
       " '.1881',\n",
       " ' ',\n",
       " '-0',\n",
       " '.2531',\n",
       " '\\n',\n",
       " 'O',\n",
       " ' ',\n",
       " '-3',\n",
       " '.1606',\n",
       " ' ',\n",
       " '0',\n",
       " '.2905',\n",
       " ' ',\n",
       " '-0',\n",
       " '.3648',\n",
       " '\\n',\n",
       " 'N',\n",
       " ' ',\n",
       " '-1',\n",
       " '.2957',\n",
       " ' ',\n",
       " '-1',\n",
       " '.0520',\n",
       " ' ',\n",
       " '-0',\n",
       " '.2516',\n",
       " '\\n',\n",
       " 'C',\n",
       " ' ',\n",
       " '-2',\n",
       " '.0603',\n",
       " ' ',\n",
       " '-2',\n",
       " '.2787',\n",
       " ' ',\n",
       " '-0',\n",
       " '.3829',\n",
       " '\\n',\n",
       " '<eos>']"
      ]
     },
     "execution_count": 4,
     "metadata": {},
     "output_type": "execute_result"
    }
   ],
   "source": [
    "tokens = tknz.tokenize(test)\n",
    "tokens\n"
   ]
  },
  {
   "cell_type": "code",
   "execution_count": 5,
   "metadata": {},
   "outputs": [
    {
     "name": "stdout",
     "output_type": "stream",
     "text": [
      "[54, 0, 58, 62, 51, 61, 2, 57, 60, 3, 61, 52, 61, 2, 62, 61, 62, 52, 58, 3, 62, 2, 58, 3, 61, 51, 57, 60, 0, 55, 0, 58, 1, 53, 34, 1, 50, 41, 1, 50, 30, 0, 59, 1, 52, 19, 1, 4, 42, 1, 50, 16, 0, 58, 1, 52, 14, 1, 5, 44, 1, 50, 11, 0, 59, 1, 50, 47, 1, 6, 27, 1, 4, 18, 0, 58, 1, 50, 15, 1, 5, 17, 1, 4, 22, 0, 58, 1, 50, 46, 1, 50, 10, 1, 50, 8, 0, 58, 1, 50, 31, 1, 51, 37, 1, 50, 9, 0, 60, 1, 50, 49, 1, 52, 38, 1, 50, 23, 0, 59, 1, 5, 21, 1, 51, 36, 1, 4, 20, 0, 58, 1, 5, 45, 1, 52, 43, 1, 4, 24, 0, 58, 1, 5, 48, 1, 50, 26, 1, 4, 29, 0, 60, 1, 7, 25, 1, 50, 33, 1, 4, 39, 0, 59, 1, 5, 35, 1, 5, 12, 1, 4, 28, 0, 58, 1, 6, 13, 1, 6, 32, 1, 4, 40, 0, 56]\n"
     ]
    }
   ],
   "source": [
    "ids = tknz.encode(tokens)\n",
    "print(ids)"
   ]
  },
  {
   "cell_type": "code",
   "execution_count": 6,
   "metadata": {},
   "outputs": [],
   "source": [
    "# # Assign random background colors to tokens for highlighting\n",
    "# colors = [f\"#{random.randint(0, 0xFFFFFF):06x}\" for _ in tokens]\n",
    "\n",
    "# # Generate the colored HTML\n",
    "# colored_text = highlight_tokens(tokens, colors)\n",
    "\n",
    "# # Display the colored tokens in a notebook\n",
    "# display(HTML(colored_text))"
   ]
  },
  {
   "cell_type": "code",
   "execution_count": 7,
   "metadata": {},
   "outputs": [
    {
     "data": {
      "text/html": [
       "<span style='background-color: #1a179c; white-space: pre;'>&lt;LIGAND&gt;</span><br><span style='background-color: #9059f1; white-space: pre;'>C</span><span style='background-color: #54f6d1; white-space: pre;'>n</span><span style='background-color: #126a9a; white-space: pre;'>1</span><span style='background-color: #8c8088; white-space: pre;'>c</span><span style='background-color: #665925; white-space: pre;'>(</span><span style='background-color: #8dace3; white-space: pre;'>=</span><span style='background-color: #e96655; white-space: pre;'>O</span><span style='background-color: #119d55; white-space: pre;'>)</span><span style='background-color: #8c8088; white-space: pre;'>c</span><span style='background-color: #06ee4d; white-space: pre;'>2</span><span style='background-color: #8c8088; white-space: pre;'>c</span><span style='background-color: #665925; white-space: pre;'>(</span><span style='background-color: #54f6d1; white-space: pre;'>n</span><span style='background-color: #8c8088; white-space: pre;'>c</span><span style='background-color: #54f6d1; white-space: pre;'>n</span><span style='background-color: #06ee4d; white-space: pre;'>2</span><span style='background-color: #9059f1; white-space: pre;'>C</span><span style='background-color: #119d55; white-space: pre;'>)</span><span style='background-color: #54f6d1; white-space: pre;'>n</span><span style='background-color: #665925; white-space: pre;'>(</span><span style='background-color: #9059f1; white-space: pre;'>C</span><span style='background-color: #119d55; white-space: pre;'>)</span><span style='background-color: #8c8088; white-space: pre;'>c</span><span style='background-color: #126a9a; white-space: pre;'>1</span><span style='background-color: #8dace3; white-space: pre;'>=</span><span style='background-color: #e96655; white-space: pre;'>O</span><br><span style='background-color: #16b81b; white-space: pre;'>&lt;XYZ&gt;</span><br><span style='background-color: #9059f1; white-space: pre;'>C</span><span style='background-color: #8ff5c5; white-space: pre;'> </span><span style='background-color: #764a09; white-space: pre;'>3</span><span style='background-color: #4b6eab; white-space: pre;'>.2932</span><span style='background-color: #8ff5c5; white-space: pre;'> </span><span style='background-color: #a139db; white-space: pre;'>0</span><span style='background-color: #cb55e0; white-space: pre;'>.3895</span><span style='background-color: #8ff5c5; white-space: pre;'> </span><span style='background-color: #a139db; white-space: pre;'>0</span><span style='background-color: #be0000; white-space: pre;'>.2537</span><br><span style='background-color: #25a359; white-space: pre;'>N</span><span style='background-color: #8ff5c5; white-space: pre;'> </span><span style='background-color: #06ee4d; white-space: pre;'>2</span><span style='background-color: #b56667; white-space: pre;'>.1108</span><span style='background-color: #8ff5c5; white-space: pre;'> </span><span style='background-color: #665382; white-space: pre;'>-0</span><span style='background-color: #45d027; white-space: pre;'>.4198</span><span style='background-color: #8ff5c5; white-space: pre;'> </span><span style='background-color: #a139db; white-space: pre;'>0</span><span style='background-color: #059ac6; white-space: pre;'>.1026</span><br><span style='background-color: #9059f1; white-space: pre;'>C</span><span style='background-color: #8ff5c5; white-space: pre;'> </span><span style='background-color: #06ee4d; white-space: pre;'>2</span><span style='background-color: #68133f; white-space: pre;'>.0698</span><span style='background-color: #8ff5c5; white-space: pre;'> </span><span style='background-color: #1063e4; white-space: pre;'>-1</span><span style='background-color: #82f50f; white-space: pre;'>.7874</span><span style='background-color: #8ff5c5; white-space: pre;'> </span><span style='background-color: #a139db; white-space: pre;'>0</span><span style='background-color: #d3a8f3; white-space: pre;'>.0333</span><br><span style='background-color: #25a359; white-space: pre;'>N</span><span style='background-color: #8ff5c5; white-space: pre;'> </span><span style='background-color: #a139db; white-space: pre;'>0</span><span style='background-color: #819680; white-space: pre;'>.8358</span><span style='background-color: #8ff5c5; white-space: pre;'> </span><span style='background-color: #f1980c; white-space: pre;'>-2</span><span style='background-color: #68f64a; white-space: pre;'>.2304</span><span style='background-color: #8ff5c5; white-space: pre;'> </span><span style='background-color: #665382; white-space: pre;'>-0</span><span style='background-color: #55bfa4; white-space: pre;'>.1052</span><br><span style='background-color: #9059f1; white-space: pre;'>C</span><span style='background-color: #8ff5c5; white-space: pre;'> </span><span style='background-color: #a139db; white-space: pre;'>0</span><span style='background-color: #0b3b1e; white-space: pre;'>.0712</span><span style='background-color: #8ff5c5; white-space: pre;'> </span><span style='background-color: #1063e4; white-space: pre;'>-1</span><span style='background-color: #693fce; white-space: pre;'>.1032</span><span style='background-color: #8ff5c5; white-space: pre;'> </span><span style='background-color: #665382; white-space: pre;'>-0</span><span style='background-color: #b66d97; white-space: pre;'>.1240</span><br><span style='background-color: #9059f1; white-space: pre;'>C</span><span style='background-color: #8ff5c5; white-space: pre;'> </span><span style='background-color: #a139db; white-space: pre;'>0</span><span style='background-color: #532b99; white-space: pre;'>.8238</span><span style='background-color: #8ff5c5; white-space: pre;'> </span><span style='background-color: #a139db; white-space: pre;'>0</span><span style='background-color: #6de0f9; white-space: pre;'>.0247</span><span style='background-color: #8ff5c5; white-space: pre;'> </span><span style='background-color: #a139db; white-space: pre;'>0</span><span style='background-color: #6861b4; white-space: pre;'>.0014</span><br><span style='background-color: #9059f1; white-space: pre;'>C</span><span style='background-color: #8ff5c5; white-space: pre;'> </span><span style='background-color: #a139db; white-space: pre;'>0</span><span style='background-color: #4c61a4; white-space: pre;'>.2701</span><span style='background-color: #8ff5c5; white-space: pre;'> </span><span style='background-color: #126a9a; white-space: pre;'>1</span><span style='background-color: #9c0286; white-space: pre;'>.3335</span><span style='background-color: #8ff5c5; white-space: pre;'> </span><span style='background-color: #a139db; white-space: pre;'>0</span><span style='background-color: #cd28c8; white-space: pre;'>.0113</span><br><span style='background-color: #e96655; white-space: pre;'>O</span><span style='background-color: #8ff5c5; white-space: pre;'> </span><span style='background-color: #a139db; white-space: pre;'>0</span><span style='background-color: #2ecf1a; white-space: pre;'>.9576</span><span style='background-color: #8ff5c5; white-space: pre;'> </span><span style='background-color: #06ee4d; white-space: pre;'>2</span><span style='background-color: #7b4d3f; white-space: pre;'>.3440</span><span style='background-color: #8ff5c5; white-space: pre;'> </span><span style='background-color: #a139db; white-space: pre;'>0</span><span style='background-color: #52a87e; white-space: pre;'>.1250</span><br><span style='background-color: #25a359; white-space: pre;'>N</span><span style='background-color: #8ff5c5; white-space: pre;'> </span><span style='background-color: #1063e4; white-space: pre;'>-1</span><span style='background-color: #23d01b; white-space: pre;'>.1216</span><span style='background-color: #8ff5c5; white-space: pre;'> </span><span style='background-color: #126a9a; white-space: pre;'>1</span><span style='background-color: #9e75c5; white-space: pre;'>.3332</span><span style='background-color: #8ff5c5; white-space: pre;'> </span><span style='background-color: #665382; white-space: pre;'>-0</span><span style='background-color: #ad4f01; white-space: pre;'>.1210</span><br><span style='background-color: #9059f1; white-space: pre;'>C</span><span style='background-color: #8ff5c5; white-space: pre;'> </span><span style='background-color: #1063e4; white-space: pre;'>-1</span><span style='background-color: #65a918; white-space: pre;'>.8079</span><span style='background-color: #8ff5c5; white-space: pre;'> </span><span style='background-color: #06ee4d; white-space: pre;'>2</span><span style='background-color: #e9e47b; white-space: pre;'>.6102</span><span style='background-color: #8ff5c5; white-space: pre;'> </span><span style='background-color: #665382; white-space: pre;'>-0</span><span style='background-color: #34e617; white-space: pre;'>.1253</span><br><span style='background-color: #9059f1; white-space: pre;'>C</span><span style='background-color: #8ff5c5; white-space: pre;'> </span><span style='background-color: #1063e4; white-space: pre;'>-1</span><span style='background-color: #dcb401; white-space: pre;'>.9352</span><span style='background-color: #8ff5c5; white-space: pre;'> </span><span style='background-color: #a139db; white-space: pre;'>0</span><span style='background-color: #36fabd; white-space: pre;'>.1881</span><span style='background-color: #8ff5c5; white-space: pre;'> </span><span style='background-color: #665382; white-space: pre;'>-0</span><span style='background-color: #eeaae4; white-space: pre;'>.2531</span><br><span style='background-color: #e96655; white-space: pre;'>O</span><span style='background-color: #8ff5c5; white-space: pre;'> </span><span style='background-color: #3610b9; white-space: pre;'>-3</span><span style='background-color: #bc82d6; white-space: pre;'>.1606</span><span style='background-color: #8ff5c5; white-space: pre;'> </span><span style='background-color: #a139db; white-space: pre;'>0</span><span style='background-color: #762634; white-space: pre;'>.2905</span><span style='background-color: #8ff5c5; white-space: pre;'> </span><span style='background-color: #665382; white-space: pre;'>-0</span><span style='background-color: #865700; white-space: pre;'>.3648</span><br><span style='background-color: #25a359; white-space: pre;'>N</span><span style='background-color: #8ff5c5; white-space: pre;'> </span><span style='background-color: #1063e4; white-space: pre;'>-1</span><span style='background-color: #b08d45; white-space: pre;'>.2957</span><span style='background-color: #8ff5c5; white-space: pre;'> </span><span style='background-color: #1063e4; white-space: pre;'>-1</span><span style='background-color: #b02a45; white-space: pre;'>.0520</span><span style='background-color: #8ff5c5; white-space: pre;'> </span><span style='background-color: #665382; white-space: pre;'>-0</span><span style='background-color: #b8f6b6; white-space: pre;'>.2516</span><br><span style='background-color: #9059f1; white-space: pre;'>C</span><span style='background-color: #8ff5c5; white-space: pre;'> </span><span style='background-color: #f1980c; white-space: pre;'>-2</span><span style='background-color: #99965f; white-space: pre;'>.0603</span><span style='background-color: #8ff5c5; white-space: pre;'> </span><span style='background-color: #f1980c; white-space: pre;'>-2</span><span style='background-color: #9400e9; white-space: pre;'>.2787</span><span style='background-color: #8ff5c5; white-space: pre;'> </span><span style='background-color: #665382; white-space: pre;'>-0</span><span style='background-color: #46c0d7; white-space: pre;'>.3829</span><br><span style='background-color: #6ad308; white-space: pre;'>&lt;eos&gt;</span>"
      ],
      "text/plain": [
       "<IPython.core.display.HTML object>"
      ]
     },
     "metadata": {},
     "output_type": "display_data"
    }
   ],
   "source": [
    "# Generate a unique color for each unique token\n",
    "color_map = generate_color_map(tokens)\n",
    "\n",
    "# Generate the highlighted HTML with unique colors for each token\n",
    "highlighted_text = highlight_tokens_with_map(tokens, color_map)\n",
    "\n",
    "# Display the highlighted tokens in a notebook\n",
    "display(HTML(highlighted_text))"
   ]
  },
  {
   "cell_type": "markdown",
   "metadata": {},
   "source": [
    "# Data Loader"
   ]
  },
  {
   "cell_type": "code",
   "execution_count": 8,
   "metadata": {},
   "outputs": [],
   "source": [
    "import sys\n",
    "import yaml\n",
    "sys.path.append('..')\n",
    "from llm.preprocessing.loader import create_data_loader, split_data"
   ]
  },
  {
   "cell_type": "code",
   "execution_count": 9,
   "metadata": {},
   "outputs": [],
   "source": [
    "with open('../data/xyz_mols/cleaned_input.txt', 'r') as f:\n",
    "    data = f.read()"
   ]
  },
  {
   "cell_type": "code",
   "execution_count": 10,
   "metadata": {},
   "outputs": [],
   "source": [
    "config = yaml.load(open('../llm/config/train.yml', 'r'), Loader=yaml.FullLoader)"
   ]
  },
  {
   "cell_type": "code",
   "execution_count": 11,
   "metadata": {},
   "outputs": [
    {
     "name": "stdout",
     "output_type": "stream",
     "text": [
      "Removing existing file: tokenizer.json\n"
     ]
    }
   ],
   "source": [
    "# tokenizer\n",
    "tokenizer = LigandTokenizer()\n",
    "tokenizer.build_vocab([data])\n",
    "# save tokenizer\n",
    "tokenizer.save(\"tokenizer.json\")\n",
    "# split data\n",
    "train_data, val_data = split_data(data)\n"
   ]
  },
  {
   "cell_type": "code",
   "execution_count": 12,
   "metadata": {},
   "outputs": [
    {
     "name": "stdout",
     "output_type": "stream",
     "text": [
      "26 1.2581 0.7176\n",
      "C -1.1890 0.6825 0.2245\n",
      "C 0.0434 1.2783 0.4748\n",
      "C 1.2073 0.6520 0.0395\n",
      "N 2.4680 1.2245 0.3325\n",
      "C 1.0927 -0.6365 -0.5203\n",
      "N 2.2523 -1.3463 -0.8767\n",
      "N -0.0768 -1.2666 -0.7231\n",
      "C -1.1855 -0.6135 -0.3318\n",
      "N -2.4076 -1.2884 -0.5043\n",
      "<eos>\n",
      "<LIGAND>\n",
      "Nc1ccc(N)c(N)n1\n",
      "<XYZ>\n",
      "N 2.9131 0.2017 -0.9565\n",
      "C 1.6077 0.1051 -0.4601\n",
      "C 1.3988 -0.0562 0.9045\n",
      "C 0.0949 -0.1545 1.3839\n",
      "C -0.9720 -0.0565 0.4969\n",
      "N -2.2880 -0.2737 0.9531\n",
      "C -0.6587 0.0265 -0.8762\n",
      "N -1.7052 0.0176 -1.8227\n",
      "N 0.5982 0.1384 -1.3425\n",
      "<eos>\n"
     ]
    }
   ],
   "source": [
    "# print last 500 tokens\n",
    "print(train_data[-500:])"
   ]
  },
  {
   "cell_type": "code",
   "execution_count": 13,
   "metadata": {},
   "outputs": [],
   "source": [
    "# data loader\n",
    "train_loader = create_data_loader(\n",
    "    input=train_data, \n",
    "    batch_size=config[\"training\"][\"batch_size\"], \n",
    "    max_tokens=config[\"tokenizer\"][\"max_tokens\"], \n",
    "    stride=config[\"tokenizer\"][\"stride\"],\n",
    "    tokenizer=tokenizer,\n",
    "    num_workers=1,\n",
    ")"
   ]
  },
  {
   "cell_type": "code",
   "execution_count": 16,
   "metadata": {},
   "outputs": [
    {
     "name": "stdout",
     "output_type": "stream",
     "text": [
      "['.5893', '\\n', 'O', ' ', '-2', '.0711', ' ', '1', '.3342', ' ', '0', '.6820', '\\n', '<eos>', '\\n', '<LIGAND>', '\\n', 'O', 'C', '[', 'C', '@', '@', ']', '1', '(', 'O', ')', 'O', 'C', '[', 'C', '@', '@', 'H', ']', '(', 'O', ')', '[', 'C', '@', 'H', ']', '(', 'O', ')', '[', 'C', '@', 'H', ']', '1', 'O', '\\n', '<XYZ>', '\\n', 'O', ' ', '2', '.9077', ' ', '0', '.3289', ' ', '0', '.5185', '\\n', 'C', ' ', '1', '.7827', ' ', '-0', '.5494', ' ', '0', '.6086', '\\n', 'C', ' ', '0', '.9002', ' ', '-0', '.4432', ' ', '-0', '.6662', '\\n', 'O', ' ', '1', '.7807', ' ', '-0', '.4008', ' ', '-1', '.8035', '\\n', 'O', ' ', '0', '.0810', ' ', '-1', '.6067', ' ', '-0', '.8037', '\\n', 'C', ' ', '-0', '.9973', ' ', '-1', '.6888', ' ', '0', '.1282', '\\n', 'C', ' ', '-1', '.9232', ' ', '-0', '.4788', ' ', '0', '.0475', '\\n', 'O', ' ', '-2', '.9323', ' ', '-0', '.5583', ' ', '1', '.0552', '\\n', 'C', ' ', '-1', '.1178', ' ', '0', '.8039', ' ', '0', '.2377', '\\n', 'O', ' ', '-1', '.9830', ' ', '1', '.9351', ' ', '0', '.0409', '\\n', 'C', ' ', '0', '.0511', ' ', '0', '.8527', ' ', '-0', '.7428', '\\n', 'O', ' ', '0', '.8039', ' ', '2', '.0485', ' ', '-0', '.4800', '\\n', '<eos>', '\\n', '<LIGAND>', '\\n', 'O', 'C', '[', 'C', '@', ']', '1', '(', 'O', ')', 'O', 'C', '[', 'C', '@', '@', 'H', ']', '(', 'O', ')', '[', 'C', '@', 'H', ']', '(', 'O', ')', '[', 'C', '@', 'H', ']', '1', 'O', '\\n', '<XYZ>', '\\n', 'O', ' ', '3', '.0991', ' ', '-0', '.6859', ' ', '0', '.0840', '\\n', 'C', ' ', '2', '.3568', ' ', '0', '.4525', ' ', '0', '.5391', '\\n', 'C', ' ']\n",
      "['\\n', 'O', ' ', '-2', '.0711', ' ', '1', '.3342', ' ', '0', '.6820', '\\n', '<eos>', '\\n', '<LIGAND>', '\\n', 'O', 'C', '[', 'C', '@', '@', ']', '1', '(', 'O', ')', 'O', 'C', '[', 'C', '@', '@', 'H', ']', '(', 'O', ')', '[', 'C', '@', 'H', ']', '(', 'O', ')', '[', 'C', '@', 'H', ']', '1', 'O', '\\n', '<XYZ>', '\\n', 'O', ' ', '2', '.9077', ' ', '0', '.3289', ' ', '0', '.5185', '\\n', 'C', ' ', '1', '.7827', ' ', '-0', '.5494', ' ', '0', '.6086', '\\n', 'C', ' ', '0', '.9002', ' ', '-0', '.4432', ' ', '-0', '.6662', '\\n', 'O', ' ', '1', '.7807', ' ', '-0', '.4008', ' ', '-1', '.8035', '\\n', 'O', ' ', '0', '.0810', ' ', '-1', '.6067', ' ', '-0', '.8037', '\\n', 'C', ' ', '-0', '.9973', ' ', '-1', '.6888', ' ', '0', '.1282', '\\n', 'C', ' ', '-1', '.9232', ' ', '-0', '.4788', ' ', '0', '.0475', '\\n', 'O', ' ', '-2', '.9323', ' ', '-0', '.5583', ' ', '1', '.0552', '\\n', 'C', ' ', '-1', '.1178', ' ', '0', '.8039', ' ', '0', '.2377', '\\n', 'O', ' ', '-1', '.9830', ' ', '1', '.9351', ' ', '0', '.0409', '\\n', 'C', ' ', '0', '.0511', ' ', '0', '.8527', ' ', '-0', '.7428', '\\n', 'O', ' ', '0', '.8039', ' ', '2', '.0485', ' ', '-0', '.4800', '\\n', '<eos>', '\\n', '<LIGAND>', '\\n', 'O', 'C', '[', 'C', '@', ']', '1', '(', 'O', ')', 'O', 'C', '[', 'C', '@', '@', 'H', ']', '(', 'O', ')', '[', 'C', '@', 'H', ']', '(', 'O', ')', '[', 'C', '@', 'H', ']', '1', 'O', '\\n', '<XYZ>', '\\n', 'O', ' ', '3', '.0991', ' ', '-0', '.6859', ' ', '0', '.0840', '\\n', 'C', ' ', '2', '.3568', ' ', '0', '.4525', ' ', '0', '.5391', '\\n', 'C', ' ', '0']\n",
      "['0', '.3866', '\\n', 'O', ' ', '0', '.9108', ' ', '-1', '.3722', ' ', '-0', '.3050', '\\n', 'C', ' ', '-0', '.3003', ' ', '-0', '.7766', ' ', '-0', '.0334', '\\n', 'N', ' ', '-0', '.3649', ' ', '0', '.2382', ' ', '0', '.8453', '\\n', 'C', ' ', '-1', '.5887', ' ', '0', '.7564', ' ', '1', '.0576', '\\n', 'C', ' ', '-2', '.7255', ' ', '0', '.2987', ' ', '0', '.4351', '\\n', 'C', ' ', '-2', '.5414', ' ', '-0', '.7462', ' ', '-0', '.4391', '\\n', 'N', ' ', '-1', '.3432', ' ', '-1', '.3032', ' ', '-0', '.6898', '\\n', '<eos>', '\\n', '<LIGAND>', '\\n', 'C', 'N', '1', 'C', 'C', 'C', '(', 'O', ')', '(', 'C', '(', '=', 'O', ')', 'O', ')', 'C', 'C', '1', '\\n', '<XYZ>', '\\n', 'C', ' ', '-2', '.6723', ' ', '0', '.8631', ' ', '-0', '.3574', '\\n', 'N', ' ', '-1', '.2590', ' ', '0', '.5014', ' ', '-0', '.2877', '\\n', 'C', ' ', '-0', '.7868', ' ', '0', '.4895', ' ', '1', '.1032', '\\n', 'C', ' ', '0', '.4291', ' ', '-0', '.4115', ' ', '1', '.3421', '\\n', 'C', ' ', '1', '.3193', ' ', '-0', '.5740', ' ', '0', '.1119', '\\n', 'O', ' ', '2', '.1976', ' ', '-1', '.6928', ' ', '0', '.3806', '\\n', 'C', ' ', '2', '.2359', ' ', '0', '.6343', ' ', '-0', '.1347', '\\n', 'O', ' ', '3', '.3750', ' ', '0', '.5480', ' ', '-0', '.5797', '\\n', 'O', ' ', '1', '.7152', ' ', '1', '.8397', ' ', '0', '.1400', '\\n', 'C', ' ', '0', '.5248', ' ', '-0', '.9074', ' ', '-1', '.1604', '\\n', 'C', ' ', '-0', '.9847', ' ', '-0', '.7555', ' ', '-0', '.9734', '\\n', '<eos>', '\\n', '<LIGAND>', '\\n', 'C', 'C', 'C', 'C', 'N', 'S', '(', 'N', ')', '(', '=', 'O', ')', '=', 'O', '\\n', '<XYZ>', '\\n', 'C', ' ', '-2', '.5363', ' ', '-0']\n",
      "['.3866', '\\n', 'O', ' ', '0', '.9108', ' ', '-1', '.3722', ' ', '-0', '.3050', '\\n', 'C', ' ', '-0', '.3003', ' ', '-0', '.7766', ' ', '-0', '.0334', '\\n', 'N', ' ', '-0', '.3649', ' ', '0', '.2382', ' ', '0', '.8453', '\\n', 'C', ' ', '-1', '.5887', ' ', '0', '.7564', ' ', '1', '.0576', '\\n', 'C', ' ', '-2', '.7255', ' ', '0', '.2987', ' ', '0', '.4351', '\\n', 'C', ' ', '-2', '.5414', ' ', '-0', '.7462', ' ', '-0', '.4391', '\\n', 'N', ' ', '-1', '.3432', ' ', '-1', '.3032', ' ', '-0', '.6898', '\\n', '<eos>', '\\n', '<LIGAND>', '\\n', 'C', 'N', '1', 'C', 'C', 'C', '(', 'O', ')', '(', 'C', '(', '=', 'O', ')', 'O', ')', 'C', 'C', '1', '\\n', '<XYZ>', '\\n', 'C', ' ', '-2', '.6723', ' ', '0', '.8631', ' ', '-0', '.3574', '\\n', 'N', ' ', '-1', '.2590', ' ', '0', '.5014', ' ', '-0', '.2877', '\\n', 'C', ' ', '-0', '.7868', ' ', '0', '.4895', ' ', '1', '.1032', '\\n', 'C', ' ', '0', '.4291', ' ', '-0', '.4115', ' ', '1', '.3421', '\\n', 'C', ' ', '1', '.3193', ' ', '-0', '.5740', ' ', '0', '.1119', '\\n', 'O', ' ', '2', '.1976', ' ', '-1', '.6928', ' ', '0', '.3806', '\\n', 'C', ' ', '2', '.2359', ' ', '0', '.6343', ' ', '-0', '.1347', '\\n', 'O', ' ', '3', '.3750', ' ', '0', '.5480', ' ', '-0', '.5797', '\\n', 'O', ' ', '1', '.7152', ' ', '1', '.8397', ' ', '0', '.1400', '\\n', 'C', ' ', '0', '.5248', ' ', '-0', '.9074', ' ', '-1', '.1604', '\\n', 'C', ' ', '-0', '.9847', ' ', '-0', '.7555', ' ', '-0', '.9734', '\\n', '<eos>', '\\n', '<LIGAND>', '\\n', 'C', 'C', 'C', 'C', 'N', 'S', '(', 'N', ')', '(', '=', 'O', ')', '=', 'O', '\\n', '<XYZ>', '\\n', 'C', ' ', '-2', '.5363', ' ', '-0', '.1193']\n",
      "['\\n', 'C', ' ', '-0', '.8377', ' ', '2', '.1584', ' ', '0', '.1918', '\\n', 'N', ' ', '-2', '.3483', ' ', '0', '.2581', ' ', '0', '.0786', '\\n', 'C', ' ', '-2', '.7516', ' ', '-1', '.0453', ' ', '0', '.0112', '\\n', 'O', ' ', '-3', '.9345', ' ', '-1', '.3552', ' ', '-0', '.0696', '\\n', 'N', ' ', '-1', '.7530', ' ', '-1', '.9709', ' ', '0', '.0463', '\\n', 'C', ' ', '-0', '.4298', ' ', '-1', '.6907', ' ', '0', '.2553', '\\n', 'O', ' ', '0', '.3830', ' ', '-2', '.5897', ' ', '0', '.4469', '\\n', '<eos>', '\\n', '<LIGAND>', '\\n', 'C', 'n', '1', 'c', 'c', 'c', 'c', '1', 'C', '(', '=', 'O', ')', 'N', 'C', 'C', 'N', '\\n', '<XYZ>', '\\n', 'C', ' ', '-3', '.1801', ' ', '-1', '.3570', ' ', '-0', '.0450', '\\n', 'N', ' ', '-2', '.5963', ' ', '-0', '.0350', ' ', '0', '.0573', '\\n', 'C', ' ', '-3', '.3305', ' ', '1', '.1231', ' ', '0', '.1035', '\\n', 'C', ' ', '-2', '.4575', ' ', '2', '.1781', ' ', '0', '.2043', '\\n', 'C', ' ', '-1', '.1517', ' ', '1', '.6356', ' ', '0', '.2156', '\\n', 'C', ' ', '-1', '.2415', ' ', '0', '.2505', ' ', '0', '.1141', '\\n', 'C', ' ', '-0', '.1860', ' ', '-0', '.7520', ' ', '0', '.0850', '\\n', 'O', ' ', '-0', '.3947', ' ', '-1', '.9619', ' ', '0', '.1324', '\\n', 'N', ' ', '1', '.0891', ' ', '-0', '.2497', ' ', '-0', '.0209', '\\n', 'C', ' ', '2', '.2335', ' ', '-1', '.1121', ' ', '-0', '.2297', '\\n', 'C', ' ', '3', '.5424', ' ', '-0', '.3209', ' ', '-0', '.1162', '\\n', 'N', ' ', '3', '.5254', ' ', '0', '.8749', ' ', '-0', '.9708', '\\n', '<eos>', '\\n', '<LIGAND>', '\\n', 'C', 'N', '1', 'C', 'C', '[', 'C', '@', '@', 'H', ']', '(', 'C', '(', '=', 'O', ')', 'O']\n",
      "['C', ' ', '-0', '.8377', ' ', '2', '.1584', ' ', '0', '.1918', '\\n', 'N', ' ', '-2', '.3483', ' ', '0', '.2581', ' ', '0', '.0786', '\\n', 'C', ' ', '-2', '.7516', ' ', '-1', '.0453', ' ', '0', '.0112', '\\n', 'O', ' ', '-3', '.9345', ' ', '-1', '.3552', ' ', '-0', '.0696', '\\n', 'N', ' ', '-1', '.7530', ' ', '-1', '.9709', ' ', '0', '.0463', '\\n', 'C', ' ', '-0', '.4298', ' ', '-1', '.6907', ' ', '0', '.2553', '\\n', 'O', ' ', '0', '.3830', ' ', '-2', '.5897', ' ', '0', '.4469', '\\n', '<eos>', '\\n', '<LIGAND>', '\\n', 'C', 'n', '1', 'c', 'c', 'c', 'c', '1', 'C', '(', '=', 'O', ')', 'N', 'C', 'C', 'N', '\\n', '<XYZ>', '\\n', 'C', ' ', '-3', '.1801', ' ', '-1', '.3570', ' ', '-0', '.0450', '\\n', 'N', ' ', '-2', '.5963', ' ', '-0', '.0350', ' ', '0', '.0573', '\\n', 'C', ' ', '-3', '.3305', ' ', '1', '.1231', ' ', '0', '.1035', '\\n', 'C', ' ', '-2', '.4575', ' ', '2', '.1781', ' ', '0', '.2043', '\\n', 'C', ' ', '-1', '.1517', ' ', '1', '.6356', ' ', '0', '.2156', '\\n', 'C', ' ', '-1', '.2415', ' ', '0', '.2505', ' ', '0', '.1141', '\\n', 'C', ' ', '-0', '.1860', ' ', '-0', '.7520', ' ', '0', '.0850', '\\n', 'O', ' ', '-0', '.3947', ' ', '-1', '.9619', ' ', '0', '.1324', '\\n', 'N', ' ', '1', '.0891', ' ', '-0', '.2497', ' ', '-0', '.0209', '\\n', 'C', ' ', '2', '.2335', ' ', '-1', '.1121', ' ', '-0', '.2297', '\\n', 'C', ' ', '3', '.5424', ' ', '-0', '.3209', ' ', '-0', '.1162', '\\n', 'N', ' ', '3', '.5254', ' ', '0', '.8749', ' ', '-0', '.9708', '\\n', '<eos>', '\\n', '<LIGAND>', '\\n', 'C', 'N', '1', 'C', 'C', '[', 'C', '@', '@', 'H', ']', '(', 'C', '(', '=', 'O', ')', 'O', ')']\n",
      "[' ', '0', '.0754', '\\n', 'C', ' ', '2', '.1885', ' ', '-0', '.2488', ' ', '0', '.9068', '\\n', 'C', ' ', '3', '.4904', ' ', '-0', '.0408', ' ', '0', '.1801', '\\n', 'O', ' ', '2', '.1451', ' ', '-0', '.3980', ' ', '2', '.1241', '\\n', '<eos>', '\\n', '<LIGAND>', '\\n', 'C', 'C', '(', '=', 'O', ')', 'N', 'C', 'N', 'C', '(', 'C', ')', '=', 'O', '\\n', '<XYZ>', '\\n', 'C', ' ', '3', '.3047', ' ', '-0', '.6064', ' ', '0', '.3856', '\\n', 'C', ' ', '2', '.0775', ' ', '0', '.1500', ' ', '-0', '.0451', '\\n', 'O', ' ', '1', '.9117', ' ', '1', '.3352', ' ', '0', '.2246', '\\n', 'N', ' ', '1', '.1566', ' ', '-0', '.6066', ' ', '-0', '.7234', '\\n', 'C', ' ', '-0', '.0717', ' ', '-0', '.0505', ' ', '-1', '.2056', '\\n', 'N', ' ', '-0', '.9996', ' ', '0', '.0785', ' ', '-0', '.1263', '\\n', 'C', ' ', '-2', '.3395', ' ', '0', '.2242', ' ', '-0', '.3917', '\\n', 'C', ' ', '-3', '.1700', ' ', '0', '.5838', ' ', '0', '.8108', '\\n', 'O', ' ', '-2', '.8322', ' ', '0', '.0772', ' ', '-1', '.5053', '\\n', '<eos>', '\\n', '<LIGAND>', '\\n', 'O', '=', 'c', '1', 'c', '(', '=', 'O', ')', 'c', '(', '=', 'O', ')', 'c', '2', 'c', 'c', 'c', 'c', 'c', '2', 'c', '1', '=', 'O', '\\n', '<XYZ>', '\\n', 'O', ' ', '1', '.0095', ' ', '-2', '.7227', ' ', '-0', '.5510', '\\n', 'C', ' ', '1', '.1109', ' ', '-1', '.5259', ' ', '-0', '.3273', '\\n', 'C', ' ', '-0', '.0858', ' ', '-0', '.6833', ' ', '-0', '.1268', '\\n', 'C', ' ', '-1', '.3461', ' ', '-1', '.2981', ' ', '-0', '.2007', '\\n', 'C', ' ', '-2', '.5095', ' ', '-0', '.5496', ' ', '-0', '.0192', '\\n', 'C', ' ', '-2', '.4246', ' ', '0', '.8158', ' ', '0', '.2371']\n",
      "['0', '.0754', '\\n', 'C', ' ', '2', '.1885', ' ', '-0', '.2488', ' ', '0', '.9068', '\\n', 'C', ' ', '3', '.4904', ' ', '-0', '.0408', ' ', '0', '.1801', '\\n', 'O', ' ', '2', '.1451', ' ', '-0', '.3980', ' ', '2', '.1241', '\\n', '<eos>', '\\n', '<LIGAND>', '\\n', 'C', 'C', '(', '=', 'O', ')', 'N', 'C', 'N', 'C', '(', 'C', ')', '=', 'O', '\\n', '<XYZ>', '\\n', 'C', ' ', '3', '.3047', ' ', '-0', '.6064', ' ', '0', '.3856', '\\n', 'C', ' ', '2', '.0775', ' ', '0', '.1500', ' ', '-0', '.0451', '\\n', 'O', ' ', '1', '.9117', ' ', '1', '.3352', ' ', '0', '.2246', '\\n', 'N', ' ', '1', '.1566', ' ', '-0', '.6066', ' ', '-0', '.7234', '\\n', 'C', ' ', '-0', '.0717', ' ', '-0', '.0505', ' ', '-1', '.2056', '\\n', 'N', ' ', '-0', '.9996', ' ', '0', '.0785', ' ', '-0', '.1263', '\\n', 'C', ' ', '-2', '.3395', ' ', '0', '.2242', ' ', '-0', '.3917', '\\n', 'C', ' ', '-3', '.1700', ' ', '0', '.5838', ' ', '0', '.8108', '\\n', 'O', ' ', '-2', '.8322', ' ', '0', '.0772', ' ', '-1', '.5053', '\\n', '<eos>', '\\n', '<LIGAND>', '\\n', 'O', '=', 'c', '1', 'c', '(', '=', 'O', ')', 'c', '(', '=', 'O', ')', 'c', '2', 'c', 'c', 'c', 'c', 'c', '2', 'c', '1', '=', 'O', '\\n', '<XYZ>', '\\n', 'O', ' ', '1', '.0095', ' ', '-2', '.7227', ' ', '-0', '.5510', '\\n', 'C', ' ', '1', '.1109', ' ', '-1', '.5259', ' ', '-0', '.3273', '\\n', 'C', ' ', '-0', '.0858', ' ', '-0', '.6833', ' ', '-0', '.1268', '\\n', 'C', ' ', '-1', '.3461', ' ', '-1', '.2981', ' ', '-0', '.2007', '\\n', 'C', ' ', '-2', '.5095', ' ', '-0', '.5496', ' ', '-0', '.0192', '\\n', 'C', ' ', '-2', '.4246', ' ', '0', '.8158', ' ', '0', '.2371', '\\n']\n",
      "['.2905', ' ', '0', '.1207', '\\n', 'C', ' ', '-1', '.6706', ' ', '0', '.4046', ' ', '0', '.6334', '\\n', 'C', ' ', '-0', '.8385', ' ', '-0', '.2770', ' ', '-0', '.2280', '\\n', 'N', ' ', '0', '.5354', ' ', '-0', '.4155', ' ', '-0', '.0882', '\\n', 'C', ' ', '1', '.3194', ' ', '0', '.0881', ' ', '1', '.0119', '\\n', 'C', ' ', '2', '.7635', ' ', '0', '.0177', ' ', '0', '.5152', '\\n', 'N', ' ', '3', '.2000', ' ', '1', '.2405', ' ', '-0', '.1766', '\\n', 'C', ' ', '2', '.7388', ' ', '-1', '.1719', ' ', '-0', '.4413', '\\n', 'C', ' ', '1', '.3171', ' ', '-1', '.1926', ' ', '-0', '.9525', '\\n', 'O', ' ', '0', '.9604', ' ', '-1', '.8266', ' ', '-1', '.9345', '\\n', 'C', ' ', '-1', '.7101', ' ', '-0', '.7645', ' ', '-1', '.2310', '\\n', 'N', ' ', '-2', '.9843', ' ', '-0', '.4169', ' ', '-1', '.0193', '\\n', '<eos>', '\\n', '<LIGAND>', '\\n', 'C', 'n', '1', 'c', 'c', '(', 'N', '2', 'C', '[', 'C', '@', '@', 'H', ']', '(', 'N', ')', 'C', 'C', '2', '=', 'O', ')', 'c', 'n', '1', '\\n', '<XYZ>', '\\n', 'C', ' ', '4', '.2430', ' ', '-0', '.1965', ' ', '1', '.1449', '\\n', 'N', ' ', '3', '.0034', ' ', '-0', '.4849', ' ', '0', '.4660', '\\n', 'C', ' ', '1', '.7898', ' ', '0', '.1000', ' ', '0', '.6855', '\\n', 'C', ' ', '0', '.9088', ' ', '-0', '.4942', ' ', '-0', '.1916', '\\n', 'N', ' ', '-0', '.4419', ' ', '-0', '.1984', ' ', '-0', '.3074', '\\n', 'C', ' ', '-1', '.1465', ' ', '0', '.8108', ' ', '0', '.4464', '\\n', 'C', ' ', '-2', '.6167', ' ', '0', '.4460', ' ', '0', '.2506', '\\n', 'N', ' ', '-3', '.5488', ' ', '1', '.5554', ' ', '0', '.4397', '\\n', 'C', ' ', '-2', '.6366', ' ', '-0', '.1400', ' ']\n",
      "[' ', '0', '.1207', '\\n', 'C', ' ', '-1', '.6706', ' ', '0', '.4046', ' ', '0', '.6334', '\\n', 'C', ' ', '-0', '.8385', ' ', '-0', '.2770', ' ', '-0', '.2280', '\\n', 'N', ' ', '0', '.5354', ' ', '-0', '.4155', ' ', '-0', '.0882', '\\n', 'C', ' ', '1', '.3194', ' ', '0', '.0881', ' ', '1', '.0119', '\\n', 'C', ' ', '2', '.7635', ' ', '0', '.0177', ' ', '0', '.5152', '\\n', 'N', ' ', '3', '.2000', ' ', '1', '.2405', ' ', '-0', '.1766', '\\n', 'C', ' ', '2', '.7388', ' ', '-1', '.1719', ' ', '-0', '.4413', '\\n', 'C', ' ', '1', '.3171', ' ', '-1', '.1926', ' ', '-0', '.9525', '\\n', 'O', ' ', '0', '.9604', ' ', '-1', '.8266', ' ', '-1', '.9345', '\\n', 'C', ' ', '-1', '.7101', ' ', '-0', '.7645', ' ', '-1', '.2310', '\\n', 'N', ' ', '-2', '.9843', ' ', '-0', '.4169', ' ', '-1', '.0193', '\\n', '<eos>', '\\n', '<LIGAND>', '\\n', 'C', 'n', '1', 'c', 'c', '(', 'N', '2', 'C', '[', 'C', '@', '@', 'H', ']', '(', 'N', ')', 'C', 'C', '2', '=', 'O', ')', 'c', 'n', '1', '\\n', '<XYZ>', '\\n', 'C', ' ', '4', '.2430', ' ', '-0', '.1965', ' ', '1', '.1449', '\\n', 'N', ' ', '3', '.0034', ' ', '-0', '.4849', ' ', '0', '.4660', '\\n', 'C', ' ', '1', '.7898', ' ', '0', '.1000', ' ', '0', '.6855', '\\n', 'C', ' ', '0', '.9088', ' ', '-0', '.4942', ' ', '-0', '.1916', '\\n', 'N', ' ', '-0', '.4419', ' ', '-0', '.1984', ' ', '-0', '.3074', '\\n', 'C', ' ', '-1', '.1465', ' ', '0', '.8108', ' ', '0', '.4464', '\\n', 'C', ' ', '-2', '.6167', ' ', '0', '.4460', ' ', '0', '.2506', '\\n', 'N', ' ', '-3', '.5488', ' ', '1', '.5554', ' ', '0', '.4397', '\\n', 'C', ' ', '-2', '.6366', ' ', '-0', '.1400', ' ', '-1']\n",
      "['\\n', 'N', ' ', '-1', '.4080', ' ', '2', '.0652', ' ', '0', '.3165', '\\n', 'N', ' ', '0', '.0578', ' ', '0', '.1791', ' ', '-0', '.0097', '\\n', 'N', ' ', '1', '.2409', ' ', '0', '.8233', ' ', '0', '.1610', '\\n', '<eos>', '\\n', '<LIGAND>', '\\n', 'C', 'c', '1', 'n', '[', 'n', 'H', ']', 'c', '2', 'n', 'c', '[', 'n', 'H', ']', 'c', '(', '=', 'O', ')', 'c', '1', '2', '\\n', '<XYZ>', '\\n', 'C', ' ', '2', '.6410', ' ', '-0', '.1683', ' ', '0', '.1332', '\\n', 'C', ' ', '1', '.3295', ' ', '0', '.5220', ' ', '0', '.1061', '\\n', 'N', ' ', '1', '.2531', ' ', '1', '.8621', ' ', '0', '.1881', '\\n', 'N', ' ', '-0', '.0737', ' ', '2', '.1188', ' ', '0', '.1323', '\\n', 'C', ' ', '-0', '.8339', ' ', '0', '.9947', ' ', '0', '.0185', '\\n', 'N', ' ', '-2', '.1854', ' ', '0', '.9505', ' ', '-0', '.0580', '\\n', 'C', ' ', '-2', '.6344', ' ', '-0', '.2643', ' ', '-0', '.1606', '\\n', 'N', ' ', '-1', '.8524', ' ', '-1', '.4057', ' ', '-0', '.1914', '\\n', 'C', ' ', '-0', '.4706', ' ', '-1', '.3859', ' ', '-0', '.1148', '\\n', 'O', ' ', '0', '.2107', ' ', '-2', '.4035', ' ', '-0', '.1431', '\\n', 'C', ' ', '0', '.0505', ' ', '-0', '.0543', ' ', '-0', '.0007', '\\n', '<eos>', '\\n', '<LIGAND>', '\\n', 'C', 'n', '1', 'c', 'c', 'c', '(', 'C', 'C', 'N', ')', 'n', '1', '\\n', '<XYZ>', '\\n', 'C', ' ', '-3', '.2191', ' ', '0', '.1591', ' ', '1', '.0008', '\\n', 'N', ' ', '-2', '.0015', ' ', '-0', '.2971', ' ', '0', '.3767', '\\n', 'C', ' ', '-1', '.8861', ' ', '-1', '.1949', ' ', '-0', '.6423', '\\n', 'C', ' ', '-0', '.5400', ' ', '-1', '.3086', ' ', '-0', '.8952', '\\n', 'C', ' ', '0', '.0810', ' ', '-0']\n",
      "['N', ' ', '-1', '.4080', ' ', '2', '.0652', ' ', '0', '.3165', '\\n', 'N', ' ', '0', '.0578', ' ', '0', '.1791', ' ', '-0', '.0097', '\\n', 'N', ' ', '1', '.2409', ' ', '0', '.8233', ' ', '0', '.1610', '\\n', '<eos>', '\\n', '<LIGAND>', '\\n', 'C', 'c', '1', 'n', '[', 'n', 'H', ']', 'c', '2', 'n', 'c', '[', 'n', 'H', ']', 'c', '(', '=', 'O', ')', 'c', '1', '2', '\\n', '<XYZ>', '\\n', 'C', ' ', '2', '.6410', ' ', '-0', '.1683', ' ', '0', '.1332', '\\n', 'C', ' ', '1', '.3295', ' ', '0', '.5220', ' ', '0', '.1061', '\\n', 'N', ' ', '1', '.2531', ' ', '1', '.8621', ' ', '0', '.1881', '\\n', 'N', ' ', '-0', '.0737', ' ', '2', '.1188', ' ', '0', '.1323', '\\n', 'C', ' ', '-0', '.8339', ' ', '0', '.9947', ' ', '0', '.0185', '\\n', 'N', ' ', '-2', '.1854', ' ', '0', '.9505', ' ', '-0', '.0580', '\\n', 'C', ' ', '-2', '.6344', ' ', '-0', '.2643', ' ', '-0', '.1606', '\\n', 'N', ' ', '-1', '.8524', ' ', '-1', '.4057', ' ', '-0', '.1914', '\\n', 'C', ' ', '-0', '.4706', ' ', '-1', '.3859', ' ', '-0', '.1148', '\\n', 'O', ' ', '0', '.2107', ' ', '-2', '.4035', ' ', '-0', '.1431', '\\n', 'C', ' ', '0', '.0505', ' ', '-0', '.0543', ' ', '-0', '.0007', '\\n', '<eos>', '\\n', '<LIGAND>', '\\n', 'C', 'n', '1', 'c', 'c', 'c', '(', 'C', 'C', 'N', ')', 'n', '1', '\\n', '<XYZ>', '\\n', 'C', ' ', '-3', '.2191', ' ', '0', '.1591', ' ', '1', '.0008', '\\n', 'N', ' ', '-2', '.0015', ' ', '-0', '.2971', ' ', '0', '.3767', '\\n', 'C', ' ', '-1', '.8861', ' ', '-1', '.1949', ' ', '-0', '.6423', '\\n', 'C', ' ', '-0', '.5400', ' ', '-1', '.3086', ' ', '-0', '.8952', '\\n', 'C', ' ', '0', '.0810', ' ', '-0', '.4336']\n",
      "['.4309', '\\n', 'S', ' ', '1', '.5568', ' ', '0', '.9541', ' ', '-0', '.2449', '\\n', 'O', ' ', '2', '.3587', ' ', '1', '.6102', ' ', '0', '.7757', '\\n', 'O', ' ', '1', '.4592', ' ', '1', '.5551', ' ', '-1', '.5612', '\\n', 'C', ' ', '-0', '.0665', ' ', '0', '.8221', ' ', '0', '.4230', '\\n', 'S', ' ', '-0', '.9866', ' ', '-0', '.5393', ' ', '-0', '.1854', '\\n', 'C', ' ', '-2', '.6186', ' ', '-0', '.2117', ' ', '0', '.4337', '\\n', 'O', ' ', '-0', '.5052', ' ', '-1', '.7332', ' ', '0', '.4830', '\\n', 'O', ' ', '-1', '.0528', ' ', '-0', '.4736', ' ', '-1', '.6294', '\\n', '<eos>', '\\n', '<LIGAND>', '\\n', 'O', '=', 'S', '1', '(', '=', 'O', ')', 'C', '[', 'C', '@', '@', 'H', ']', '2', 'S', '[', 'C', '@', '@', 'H', ']', '2', 'C', '1', '\\n', '<XYZ>', '\\n', 'O', ' ', '-1', '.3069', ' ', '1', '.5068', ' ', '-1', '.0734', '\\n', 'S', ' ', '-1', '.0197', ' ', '0', '.8445', ' ', '0', '.1865', '\\n', 'O', ' ', '-1', '.7883', ' ', '1', '.1407', ' ', '1', '.3791', '\\n', 'C', ' ', '0', '.7147', ' ', '1', '.0745', ' ', '0', '.5443', '\\n', 'C', ' ', '1', '.3053', ' ', '-0', '.0595', ' ', '-0', '.2175', '\\n', 'S', ' ', '1', '.5554', ' ', '-1', '.5673', ' ', '0', '.5785', '\\n', 'C', ' ', '0', '.3407', ' ', '-1', '.1466', ' ', '-0', '.5692', '\\n', 'C', ' ', '-1', '.0532', ' ', '-0', '.9178', ' ', '-0', '.1002', '\\n', '<eos>', '\\n', '<LIGAND>', '\\n', 'O', '=', 'C', '1', 'C', 'C', '[', 'C', '@', '@', 'H', ']', '(', 'C', '(', '=', 'O', ')', 'O', ')', 'C', 'N', '1', '\\n', '<XYZ>', '\\n', 'O', ' ', '2', '.6938', ' ', '1', '.1347', ' ', '-0', '.7615', '\\n', 'C', ' ', '2', '.1579']\n",
      "['\\n', 'S', ' ', '1', '.5568', ' ', '0', '.9541', ' ', '-0', '.2449', '\\n', 'O', ' ', '2', '.3587', ' ', '1', '.6102', ' ', '0', '.7757', '\\n', 'O', ' ', '1', '.4592', ' ', '1', '.5551', ' ', '-1', '.5612', '\\n', 'C', ' ', '-0', '.0665', ' ', '0', '.8221', ' ', '0', '.4230', '\\n', 'S', ' ', '-0', '.9866', ' ', '-0', '.5393', ' ', '-0', '.1854', '\\n', 'C', ' ', '-2', '.6186', ' ', '-0', '.2117', ' ', '0', '.4337', '\\n', 'O', ' ', '-0', '.5052', ' ', '-1', '.7332', ' ', '0', '.4830', '\\n', 'O', ' ', '-1', '.0528', ' ', '-0', '.4736', ' ', '-1', '.6294', '\\n', '<eos>', '\\n', '<LIGAND>', '\\n', 'O', '=', 'S', '1', '(', '=', 'O', ')', 'C', '[', 'C', '@', '@', 'H', ']', '2', 'S', '[', 'C', '@', '@', 'H', ']', '2', 'C', '1', '\\n', '<XYZ>', '\\n', 'O', ' ', '-1', '.3069', ' ', '1', '.5068', ' ', '-1', '.0734', '\\n', 'S', ' ', '-1', '.0197', ' ', '0', '.8445', ' ', '0', '.1865', '\\n', 'O', ' ', '-1', '.7883', ' ', '1', '.1407', ' ', '1', '.3791', '\\n', 'C', ' ', '0', '.7147', ' ', '1', '.0745', ' ', '0', '.5443', '\\n', 'C', ' ', '1', '.3053', ' ', '-0', '.0595', ' ', '-0', '.2175', '\\n', 'S', ' ', '1', '.5554', ' ', '-1', '.5673', ' ', '0', '.5785', '\\n', 'C', ' ', '0', '.3407', ' ', '-1', '.1466', ' ', '-0', '.5692', '\\n', 'C', ' ', '-1', '.0532', ' ', '-0', '.9178', ' ', '-0', '.1002', '\\n', '<eos>', '\\n', '<LIGAND>', '\\n', 'O', '=', 'C', '1', 'C', 'C', '[', 'C', '@', '@', 'H', ']', '(', 'C', '(', '=', 'O', ')', 'O', ')', 'C', 'N', '1', '\\n', '<XYZ>', '\\n', 'O', ' ', '2', '.6938', ' ', '1', '.1347', ' ', '-0', '.7615', '\\n', 'C', ' ', '2', '.1579', ' ']\n",
      "[' ', '-2', '.5543', ' ', '1', '.6032', ' ', '-1', '.1182', '\\n', 'O', ' ', '-3', '.5122', ' ', '0', '.4480', ' ', '0', '.6145', '\\n', 'C', ' ', '-4', '.6592', ' ', '1', '.2851', ' ', '0', '.4667', '\\n', 'C', ' ', '-1', '.1723', ' ', '-1', '.1945', ' ', '0', '.8418', '\\n', 'N', ' ', '0', '.0183', ' ', '-1', '.7872', ' ', '0', '.7138', '\\n', '<eos>', '\\n', '<LIGAND>', '\\n', 'C', 'N', 'C', '(', '=', 'O', ')', 'c', '1', 'c', 'c', '(', 'C', '(', '=', 'O', ')', 'O', ')', 'n', 'n', '1', 'C', '\\n', '<XYZ>', '\\n', 'C', ' ', '3', '.6194', ' ', '-0', '.2527', ' ', '0', '.4571', '\\n', 'N', ' ', '2', '.2444', ' ', '0', '.1223', ' ', '0', '.2386', '\\n', 'C', ' ', '1', '.3367', ' ', '-0', '.8110', ' ', '-0', '.2197', '\\n', 'O', ' ', '1', '.6653', ' ', '-1', '.9516', ' ', '-0', '.5265', '\\n', 'C', ' ', '-0', '.0309', ' ', '-0', '.3571', ' ', '-0', '.2426', '\\n', 'C', ' ', '-1', '.1674', ' ', '-1', '.0807', ' ', '0', '.0691', '\\n', 'C', ' ', '-2', '.2645', ' ', '-0', '.1932', ' ', '-0', '.0822', '\\n', 'C', ' ', '-3', '.6810', ' ', '-0', '.4777', ' ', '0', '.1603', '\\n', 'O', ' ', '-4', '.6203', ' ', '0', '.2959', ' ', '0', '.0248', '\\n', 'O', ' ', '-3', '.9289', ' ', '-1', '.7442', ' ', '0', '.5809', '\\n', 'N', ' ', '-1', '.8313', ' ', '1', '.0119', ' ', '-0', '.4943', '\\n', 'N', ' ', '-0', '.5026', ' ', '0', '.8641', ' ', '-0', '.6484', '\\n', 'C', ' ', '0', '.2418', ' ', '1', '.9448', ' ', '-1', '.2554', '\\n', '<eos>', '\\n', '<LIGAND>', '\\n', 'C', 'O', 'C', '(', '=', 'O', ')', 'c', '1', 'c', 'c', 'n', '(', 'C', 'C', '(', '=', 'O', ')', 'O', ')', 'n', '1', '\\n', '<XYZ>']\n",
      "['-2', '.5543', ' ', '1', '.6032', ' ', '-1', '.1182', '\\n', 'O', ' ', '-3', '.5122', ' ', '0', '.4480', ' ', '0', '.6145', '\\n', 'C', ' ', '-4', '.6592', ' ', '1', '.2851', ' ', '0', '.4667', '\\n', 'C', ' ', '-1', '.1723', ' ', '-1', '.1945', ' ', '0', '.8418', '\\n', 'N', ' ', '0', '.0183', ' ', '-1', '.7872', ' ', '0', '.7138', '\\n', '<eos>', '\\n', '<LIGAND>', '\\n', 'C', 'N', 'C', '(', '=', 'O', ')', 'c', '1', 'c', 'c', '(', 'C', '(', '=', 'O', ')', 'O', ')', 'n', 'n', '1', 'C', '\\n', '<XYZ>', '\\n', 'C', ' ', '3', '.6194', ' ', '-0', '.2527', ' ', '0', '.4571', '\\n', 'N', ' ', '2', '.2444', ' ', '0', '.1223', ' ', '0', '.2386', '\\n', 'C', ' ', '1', '.3367', ' ', '-0', '.8110', ' ', '-0', '.2197', '\\n', 'O', ' ', '1', '.6653', ' ', '-1', '.9516', ' ', '-0', '.5265', '\\n', 'C', ' ', '-0', '.0309', ' ', '-0', '.3571', ' ', '-0', '.2426', '\\n', 'C', ' ', '-1', '.1674', ' ', '-1', '.0807', ' ', '0', '.0691', '\\n', 'C', ' ', '-2', '.2645', ' ', '-0', '.1932', ' ', '-0', '.0822', '\\n', 'C', ' ', '-3', '.6810', ' ', '-0', '.4777', ' ', '0', '.1603', '\\n', 'O', ' ', '-4', '.6203', ' ', '0', '.2959', ' ', '0', '.0248', '\\n', 'O', ' ', '-3', '.9289', ' ', '-1', '.7442', ' ', '0', '.5809', '\\n', 'N', ' ', '-1', '.8313', ' ', '1', '.0119', ' ', '-0', '.4943', '\\n', 'N', ' ', '-0', '.5026', ' ', '0', '.8641', ' ', '-0', '.6484', '\\n', 'C', ' ', '0', '.2418', ' ', '1', '.9448', ' ', '-1', '.2554', '\\n', '<eos>', '\\n', '<LIGAND>', '\\n', 'C', 'O', 'C', '(', '=', 'O', ')', 'c', '1', 'c', 'c', 'n', '(', 'C', 'C', '(', '=', 'O', ')', 'O', ')', 'n', '1', '\\n', '<XYZ>', '\\n']\n",
      "['2', '.4664', ' ', '-0', '.2249', ' ', '0', '.6865', '\\n', 'O', ' ', '1', '.8286', ' ', '-1', '.2527', ' ', '0', '.8909', '\\n', 'N', ' ', '2', '.4750', ' ', '0', '.4127', ' ', '-0', '.5306', '\\n', 'C', ' ', '1', '.7716', ' ', '-0', '.1229', ' ', '-1', '.6876', '\\n', 'C', ' ', '0', '.2572', ' ', '0', '.1508', ' ', '-1', '.6683', '\\n', 'N', ' ', '-0', '.4334', ' ', '-0', '.6620', ' ', '-0', '.6815', '\\n', 'C', ' ', '-1', '.7195', ' ', '-0', '.4371', ' ', '-0', '.2483', '\\n', 'C', ' ', '-2', '.7397', ' ', '0', '.1992', ' ', '-1', '.1643', '\\n', 'N', ' ', '-3', '.9467', ' ', '0', '.4522', ' ', '-0', '.7786', '\\n', 'N', ' ', '-4', '.2160', ' ', '0', '.0811', ' ', '0', '.5040', '\\n', 'C', ' ', '-3', '.3383', ' ', '-0', '.5330', ' ', '1', '.3756', '\\n', 'O', ' ', '-3', '.7311', ' ', '-0', '.8282', ' ', '2', '.5016', '\\n', 'N', ' ', '-2', '.0581', ' ', '-0', '.7787', ' ', '0', '.9550', '\\n', '<eos>', '\\n', '<LIGAND>', '\\n', 'O', '=', 'C', '1', 'N', 'C', '(', '=', 'O', ')', '[', 'C', '@', 'H', ']', '2', 'N', '=', 'C', 'N', '[', 'C', '@', 'H', ']', '2', 'N', '1', '\\n', '<XYZ>', '\\n', 'O', ' ', '-2', '.7587', ' ', '-0', '.4474', ' ', '1', '.2866', '\\n', 'C', ' ', '-1', '.7335', ' ', '-0', '.0997', ' ', '0', '.7113', '\\n', 'N', ' ', '-1', '.4399', ' ', '1', '.2059', ' ', '0', '.4898', '\\n', 'C', ' ', '-0', '.4381', ' ', '1', '.7001', ' ', '-0', '.3006', '\\n', 'O', ' ', '-0', '.4571', ' ', '2', '.8788', ' ', '-0', '.6564', '\\n', 'C', ' ', '0', '.6566', ' ', '0', '.7434', ' ', '-0', '.7006', '\\n', 'N', ' ', '1', '.8034', ' ', '0', '.8045', ' ', '0', '.2753', '\\n', 'C', ' ', '2']\n",
      "['.4664', ' ', '-0', '.2249', ' ', '0', '.6865', '\\n', 'O', ' ', '1', '.8286', ' ', '-1', '.2527', ' ', '0', '.8909', '\\n', 'N', ' ', '2', '.4750', ' ', '0', '.4127', ' ', '-0', '.5306', '\\n', 'C', ' ', '1', '.7716', ' ', '-0', '.1229', ' ', '-1', '.6876', '\\n', 'C', ' ', '0', '.2572', ' ', '0', '.1508', ' ', '-1', '.6683', '\\n', 'N', ' ', '-0', '.4334', ' ', '-0', '.6620', ' ', '-0', '.6815', '\\n', 'C', ' ', '-1', '.7195', ' ', '-0', '.4371', ' ', '-0', '.2483', '\\n', 'C', ' ', '-2', '.7397', ' ', '0', '.1992', ' ', '-1', '.1643', '\\n', 'N', ' ', '-3', '.9467', ' ', '0', '.4522', ' ', '-0', '.7786', '\\n', 'N', ' ', '-4', '.2160', ' ', '0', '.0811', ' ', '0', '.5040', '\\n', 'C', ' ', '-3', '.3383', ' ', '-0', '.5330', ' ', '1', '.3756', '\\n', 'O', ' ', '-3', '.7311', ' ', '-0', '.8282', ' ', '2', '.5016', '\\n', 'N', ' ', '-2', '.0581', ' ', '-0', '.7787', ' ', '0', '.9550', '\\n', '<eos>', '\\n', '<LIGAND>', '\\n', 'O', '=', 'C', '1', 'N', 'C', '(', '=', 'O', ')', '[', 'C', '@', 'H', ']', '2', 'N', '=', 'C', 'N', '[', 'C', '@', 'H', ']', '2', 'N', '1', '\\n', '<XYZ>', '\\n', 'O', ' ', '-2', '.7587', ' ', '-0', '.4474', ' ', '1', '.2866', '\\n', 'C', ' ', '-1', '.7335', ' ', '-0', '.0997', ' ', '0', '.7113', '\\n', 'N', ' ', '-1', '.4399', ' ', '1', '.2059', ' ', '0', '.4898', '\\n', 'C', ' ', '-0', '.4381', ' ', '1', '.7001', ' ', '-0', '.3006', '\\n', 'O', ' ', '-0', '.4571', ' ', '2', '.8788', ' ', '-0', '.6564', '\\n', 'C', ' ', '0', '.6566', ' ', '0', '.7434', ' ', '-0', '.7006', '\\n', 'N', ' ', '1', '.8034', ' ', '0', '.8045', ' ', '0', '.2753', '\\n', 'C', ' ', '2', '.0967']\n",
      "['C', ' ', '-3', '.0979', ' ', '-1', '.5240', ' ', '1', '.7330', '\\n', 'N', ' ', '-2', '.1009', ' ', '-0', '.5456', ' ', '-0', '.2772', '\\n', 'C', ' ', '-1', '.0770', ' ', '0', '.3182', ' ', '0', '.0402', '\\n', 'O', ' ', '-1', '.0982', ' ', '1', '.1867', ' ', '0', '.9014', '\\n', 'C', ' ', '0', '.1951', ' ', '0', '.1082', ' ', '-0', '.8137', '\\n', 'O', ' ', '0', '.2027', ' ', '-0', '.7295', ' ', '-1', '.7044', '\\n', 'N', ' ', '1', '.2326', ' ', '0', '.9438', ' ', '-0', '.4632', '\\n', 'C', ' ', '2', '.4376', ' ', '1', '.0318', ' ', '-1', '.2559', '\\n', 'C', ' ', '3', '.5941', ' ', '1', '.6636', ' ', '-0', '.4850', '\\n', 'C', ' ', '4', '.1512', ' ', '0', '.7501', ' ', '0', '.6004', '\\n', 'O', ' ', '4', '.7772', ' ', '-0', '.3888', ' ', '0', '.0259', '\\n', '<eos>', '\\n', '<LIGAND>', '\\n', 'N', 'C', '[', 'P', '@', '@', ']', '(', '=', 'O', ')', '(', 'O', ')', 'C', 'C', 'C', '(', '=', 'O', ')', 'O', '\\n', '<XYZ>', '\\n', 'N', ' ', '3', '.4144', ' ', '0', '.4184', ' ', '0', '.7512', '\\n', 'C', ' ', '2', '.0951', ' ', '1', '.0201', ' ', '0', '.5149', '\\n', 'P', ' ', '0', '.9998', ' ', '-0', '.3146', ' ', '0', '.0136', '\\n', 'O', ' ', '1', '.4697', ' ', '-1', '.0894', ' ', '-1', '.1797', '\\n', 'O', ' ', '0', '.9498', ' ', '-1', '.2871', ' ', '1', '.3034', '\\n', 'C', ' ', '-0', '.6462', ' ', '0', '.3496', ' ', '-0', '.0952', '\\n', 'C', ' ', '-1', '.6788', ' ', '-0', '.6994', ' ', '-0', '.4738', '\\n', 'C', ' ', '-3', '.0757', ' ', '-0', '.1566', ' ', '-0', '.4478', '\\n', 'O', ' ', '-4', '.0431', ' ', '-0', '.6903', ' ', '0', '.0680', '\\n', 'O', ' ', '-3', '.2117', ' ', '1', '.0028']\n",
      "[' ', '-3', '.0979', ' ', '-1', '.5240', ' ', '1', '.7330', '\\n', 'N', ' ', '-2', '.1009', ' ', '-0', '.5456', ' ', '-0', '.2772', '\\n', 'C', ' ', '-1', '.0770', ' ', '0', '.3182', ' ', '0', '.0402', '\\n', 'O', ' ', '-1', '.0982', ' ', '1', '.1867', ' ', '0', '.9014', '\\n', 'C', ' ', '0', '.1951', ' ', '0', '.1082', ' ', '-0', '.8137', '\\n', 'O', ' ', '0', '.2027', ' ', '-0', '.7295', ' ', '-1', '.7044', '\\n', 'N', ' ', '1', '.2326', ' ', '0', '.9438', ' ', '-0', '.4632', '\\n', 'C', ' ', '2', '.4376', ' ', '1', '.0318', ' ', '-1', '.2559', '\\n', 'C', ' ', '3', '.5941', ' ', '1', '.6636', ' ', '-0', '.4850', '\\n', 'C', ' ', '4', '.1512', ' ', '0', '.7501', ' ', '0', '.6004', '\\n', 'O', ' ', '4', '.7772', ' ', '-0', '.3888', ' ', '0', '.0259', '\\n', '<eos>', '\\n', '<LIGAND>', '\\n', 'N', 'C', '[', 'P', '@', '@', ']', '(', '=', 'O', ')', '(', 'O', ')', 'C', 'C', 'C', '(', '=', 'O', ')', 'O', '\\n', '<XYZ>', '\\n', 'N', ' ', '3', '.4144', ' ', '0', '.4184', ' ', '0', '.7512', '\\n', 'C', ' ', '2', '.0951', ' ', '1', '.0201', ' ', '0', '.5149', '\\n', 'P', ' ', '0', '.9998', ' ', '-0', '.3146', ' ', '0', '.0136', '\\n', 'O', ' ', '1', '.4697', ' ', '-1', '.0894', ' ', '-1', '.1797', '\\n', 'O', ' ', '0', '.9498', ' ', '-1', '.2871', ' ', '1', '.3034', '\\n', 'C', ' ', '-0', '.6462', ' ', '0', '.3496', ' ', '-0', '.0952', '\\n', 'C', ' ', '-1', '.6788', ' ', '-0', '.6994', ' ', '-0', '.4738', '\\n', 'C', ' ', '-3', '.0757', ' ', '-0', '.1566', ' ', '-0', '.4478', '\\n', 'O', ' ', '-4', '.0431', ' ', '-0', '.6903', ' ', '0', '.0680', '\\n', 'O', ' ', '-3', '.2117', ' ', '1', '.0028', ' ']\n",
      "['-0', '.0578', ' ', '-0', '.7732', '\\n', 'C', ' ', '2', '.0371', ' ', '0', '.0095', ' ', '-0', '.2985', '\\n', 'N', ' ', '1', '.0316', ' ', '0', '.0542', ' ', '-1', '.1176', '\\n', 'C', ' ', '-0', '.2330', ' ', '0', '.1238', ' ', '-0', '.5794', '\\n', 'C', ' ', '-0', '.4966', ' ', '0', '.1366', ' ', '0', '.7395', '\\n', 'C', ' ', '0', '.6568', ' ', '0', '.0809', ' ', '1', '.6631', '\\n', 'O', ' ', '0', '.5235', ' ', '0', '.0831', ' ', '2', '.8818', '\\n', 'N', ' ', '1', '.8711', ' ', '0', '.0246', ' ', '1', '.0545', '\\n', 'C', ' ', '-1', '.8712', ' ', '0', '.1925', ' ', '1', '.3347', '\\n', 'C', ' ', '-2', '.9742', ' ', '-0', '.0774', ' ', '0', '.3095', '\\n', 'C', ' ', '-2', '.6908', ' ', '0', '.6443', ' ', '-1', '.0026', '\\n', 'C', ' ', '-1', '.3505', ' ', '0', '.2018', ' ', '-1', '.5948', '\\n', '<eos>', '\\n', '<LIGAND>', '\\n', 'C', 'C', '[', 'C', '@', '@', 'H', ']', '(', 'C', 'O', ')', 'N', 'C', '\\n', '<XYZ>', '\\n', 'C', ' ', '-2', '.2815', ' ', '-1', '.1238', ' ', '-0', '.0530', '\\n', 'C', ' ', '-1', '.5507', ' ', '0', '.1896', ' ', '0', '.2008', '\\n', 'C', ' ', '-0', '.0621', ' ', '0', '.1769', ' ', '-0', '.2138', '\\n', 'C', ' ', '0', '.5049', ' ', '1', '.6128', ' ', '-0', '.0789', '\\n', 'O', ' ', '1', '.6623', ' ', '1', '.7843', ' ', '-0', '.8969', '\\n', 'N', ' ', '0', '.6595', ' ', '-0', '.8177', ' ', '0', '.6134', '\\n', 'C', ' ', '2', '.0704', ' ', '-0', '.9311', ' ', '0', '.2590', '\\n', '<eos>', '\\n', '<LIGAND>', '\\n', 'C', 'C', '[', 'C', '@', 'H', ']', '(', 'C', 'O', ')', 'N', 'C', '\\n', '<XYZ>', '\\n', 'C', ' ', '2', '.1762', ' ', '-0', '.0534', ' ', '0', '.6444', '\\n']\n",
      "['.0578', ' ', '-0', '.7732', '\\n', 'C', ' ', '2', '.0371', ' ', '0', '.0095', ' ', '-0', '.2985', '\\n', 'N', ' ', '1', '.0316', ' ', '0', '.0542', ' ', '-1', '.1176', '\\n', 'C', ' ', '-0', '.2330', ' ', '0', '.1238', ' ', '-0', '.5794', '\\n', 'C', ' ', '-0', '.4966', ' ', '0', '.1366', ' ', '0', '.7395', '\\n', 'C', ' ', '0', '.6568', ' ', '0', '.0809', ' ', '1', '.6631', '\\n', 'O', ' ', '0', '.5235', ' ', '0', '.0831', ' ', '2', '.8818', '\\n', 'N', ' ', '1', '.8711', ' ', '0', '.0246', ' ', '1', '.0545', '\\n', 'C', ' ', '-1', '.8712', ' ', '0', '.1925', ' ', '1', '.3347', '\\n', 'C', ' ', '-2', '.9742', ' ', '-0', '.0774', ' ', '0', '.3095', '\\n', 'C', ' ', '-2', '.6908', ' ', '0', '.6443', ' ', '-1', '.0026', '\\n', 'C', ' ', '-1', '.3505', ' ', '0', '.2018', ' ', '-1', '.5948', '\\n', '<eos>', '\\n', '<LIGAND>', '\\n', 'C', 'C', '[', 'C', '@', '@', 'H', ']', '(', 'C', 'O', ')', 'N', 'C', '\\n', '<XYZ>', '\\n', 'C', ' ', '-2', '.2815', ' ', '-1', '.1238', ' ', '-0', '.0530', '\\n', 'C', ' ', '-1', '.5507', ' ', '0', '.1896', ' ', '0', '.2008', '\\n', 'C', ' ', '-0', '.0621', ' ', '0', '.1769', ' ', '-0', '.2138', '\\n', 'C', ' ', '0', '.5049', ' ', '1', '.6128', ' ', '-0', '.0789', '\\n', 'O', ' ', '1', '.6623', ' ', '1', '.7843', ' ', '-0', '.8969', '\\n', 'N', ' ', '0', '.6595', ' ', '-0', '.8177', ' ', '0', '.6134', '\\n', 'C', ' ', '2', '.0704', ' ', '-0', '.9311', ' ', '0', '.2590', '\\n', '<eos>', '\\n', '<LIGAND>', '\\n', 'C', 'C', '[', 'C', '@', 'H', ']', '(', 'C', 'O', ')', 'N', 'C', '\\n', '<XYZ>', '\\n', 'C', ' ', '2', '.1762', ' ', '-0', '.0534', ' ', '0', '.6444', '\\n', 'C']\n"
     ]
    }
   ],
   "source": [
    "for index, (inputs, targets) in enumerate(train_loader):\n",
    "    # decode\n",
    "    decoded_inputs = tokenizer.decode_tkn(inputs[0])\n",
    "    decoded_targets = tokenizer.decode_tkn(targets[0])\n",
    "    print(decoded_inputs)\n",
    "    print(decoded_targets)\n",
    "    if index == 10:\n",
    "        break"
   ]
  },
  {
   "cell_type": "code",
   "execution_count": null,
   "metadata": {},
   "outputs": [],
   "source": []
  },
  {
   "cell_type": "code",
   "execution_count": null,
   "metadata": {},
   "outputs": [],
   "source": []
  },
  {
   "cell_type": "code",
   "execution_count": null,
   "metadata": {},
   "outputs": [],
   "source": []
  },
  {
   "cell_type": "code",
   "execution_count": null,
   "metadata": {},
   "outputs": [],
   "source": []
  },
  {
   "cell_type": "code",
   "execution_count": null,
   "metadata": {},
   "outputs": [],
   "source": []
  }
 ],
 "metadata": {
  "kernelspec": {
   "display_name": "MLChem",
   "language": "python",
   "name": "python3"
  },
  "language_info": {
   "codemirror_mode": {
    "name": "ipython",
    "version": 3
   },
   "file_extension": ".py",
   "mimetype": "text/x-python",
   "name": "python",
   "nbconvert_exporter": "python",
   "pygments_lexer": "ipython3",
   "version": "3.12.4"
  }
 },
 "nbformat": 4,
 "nbformat_minor": 2
}
