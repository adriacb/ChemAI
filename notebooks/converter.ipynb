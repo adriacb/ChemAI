{
 "cells": [
  {
   "cell_type": "code",
   "execution_count": 2,
   "metadata": {},
   "outputs": [],
   "source": [
    "import pickle\n",
    "import pandas as pd\n",
    "from rdkit import Chem\n",
    "from rhea.chem.molecule import Molecule\n",
    "from rdkit.Chem import rdDetermineBonds\n",
    "import py3Dmol\n",
    "from rdkit.Chem.Draw import IPythonConsole\n",
    "IPythonConsole.ipython_3d = True\n",
    "\n",
    "def draw_with_spheres(mol):\n",
    "    v = py3Dmol.view(width=300,height=300)\n",
    "    IPythonConsole.addMolToView(mol,v)\n",
    "    v.zoomTo()\n",
    "    v.setStyle({'sphere':{'radius':0.3},'stick':{'radius':0.2}});\n",
    "    v.show()"
   ]
  },
  {
   "cell_type": "code",
   "execution_count": null,
   "metadata": {},
   "outputs": [],
   "source": [
    "#https://greglandrum.github.io/rdkit-blog/posts/2022-12-18-introducing-rdDetermineBonds.html"
   ]
  },
  {
   "cell_type": "code",
   "execution_count": 2,
   "metadata": {},
   "outputs": [],
   "source": [
    "df = pd.read_pickle('../data/QM9/raw/gdb9.pkl')"
   ]
  },
  {
   "cell_type": "code",
   "execution_count": 3,
   "metadata": {},
   "outputs": [],
   "source": [
    "m = df.ROMol.sample(1).values[0]\n",
    "m = Molecule(m)"
   ]
  },
  {
   "cell_type": "code",
   "execution_count": 4,
   "metadata": {},
   "outputs": [
    {
     "data": {
      "application/3dmoljs_load.v0": "<div id=\"3dmolviewer_17234713751074822\"  style=\"position: relative; width: 300px; height: 300px;\">\n        <p id=\"3dmolwarning_17234713751074822\" style=\"background-color:#ffcccc;color:black\">3Dmol.js failed to load for some reason.  Please check your browser console for error messages.<br></p>\n        </div>\n<script>\n\nvar loadScriptAsync = function(uri){\n  return new Promise((resolve, reject) => {\n    //this is to ignore the existence of requirejs amd\n    var savedexports, savedmodule;\n    if (typeof exports !== 'undefined') savedexports = exports;\n    else exports = {}\n    if (typeof module !== 'undefined') savedmodule = module;\n    else module = {}\n\n    var tag = document.createElement('script');\n    tag.src = uri;\n    tag.async = true;\n    tag.onload = () => {\n        exports = savedexports;\n        module = savedmodule;\n        resolve();\n    };\n  var firstScriptTag = document.getElementsByTagName('script')[0];\n  firstScriptTag.parentNode.insertBefore(tag, firstScriptTag);\n});\n};\n\nif(typeof $3Dmolpromise === 'undefined') {\n$3Dmolpromise = null;\n  $3Dmolpromise = loadScriptAsync('https://cdnjs.cloudflare.com/ajax/libs/3Dmol/2.3.0/3Dmol-min.js');\n}\n\nvar viewer_17234713751074822 = null;\nvar warn = document.getElementById(\"3dmolwarning_17234713751074822\");\nif(warn) {\n    warn.parentNode.removeChild(warn);\n}\n$3Dmolpromise.then(function() {\nviewer_17234713751074822 = $3Dmol.createViewer(document.getElementById(\"3dmolviewer_17234713751074822\"),{backgroundColor:\"white\"});\nviewer_17234713751074822.zoomTo();\n\tviewer_17234713751074822.addModel(\"\\n     RDKit          3D\\n\\n  8  9  0  0  0  0  0  0  0  0999 V2000\\n    0.0098    1.4877   -0.1013 C   0  0  0  0  0  0  0  0  0  0  0  0\\n    0.0257    0.0279   -0.0317 N   0  0  2  0  0  0  0  0  0  0  0  0\\n   -1.1455   -0.6754    0.6308 C   0  0  1  0  0  0  0  0  0  0  0  0\\n   -0.7303   -2.1228    0.3929 C   0  0  0  0  0  0  0  0  0  0  0  0\\n    0.5711   -2.1014    0.7077 C   0  0  0  0  0  0  0  0  0  0  0  0\\n    0.7870   -0.6395    1.0985 C   0  0  2  0  0  0  0  0  0  0  0  0\\n   -0.4514   -0.4706    2.0496 C   0  0  1  0  0  0  0  0  0  0  0  0\\n   -0.5310    0.7850    2.6699 O   0  0  0  0  0  0  0  0  0  0  0  0\\n  2  1  1  1\\n  2  3  1  0\\n  2  6  1  0\\n  3  4  1  6\\n  4  5  2  0\\n  3  7  1  0\\n  6  5  1  6\\n  6  7  1  0\\n  7  8  1  6\\nM  CHG  1   2   1\\nM  END\\n\",\"sdf\");\n\tviewer_17234713751074822.setStyle({\"stick\": {}});\n\tviewer_17234713751074822.zoomTo();\n\tviewer_17234713751074822.setStyle({\"sphere\": {\"radius\": 0.3}, \"stick\": {\"radius\": 0.2}});\nviewer_17234713751074822.render();\n});\n</script>",
      "text/html": [
       "<div id=\"3dmolviewer_17234713751074822\"  style=\"position: relative; width: 300px; height: 300px;\">\n",
       "        <p id=\"3dmolwarning_17234713751074822\" style=\"background-color:#ffcccc;color:black\">3Dmol.js failed to load for some reason.  Please check your browser console for error messages.<br></p>\n",
       "        </div>\n",
       "<script>\n",
       "\n",
       "var loadScriptAsync = function(uri){\n",
       "  return new Promise((resolve, reject) => {\n",
       "    //this is to ignore the existence of requirejs amd\n",
       "    var savedexports, savedmodule;\n",
       "    if (typeof exports !== 'undefined') savedexports = exports;\n",
       "    else exports = {}\n",
       "    if (typeof module !== 'undefined') savedmodule = module;\n",
       "    else module = {}\n",
       "\n",
       "    var tag = document.createElement('script');\n",
       "    tag.src = uri;\n",
       "    tag.async = true;\n",
       "    tag.onload = () => {\n",
       "        exports = savedexports;\n",
       "        module = savedmodule;\n",
       "        resolve();\n",
       "    };\n",
       "  var firstScriptTag = document.getElementsByTagName('script')[0];\n",
       "  firstScriptTag.parentNode.insertBefore(tag, firstScriptTag);\n",
       "});\n",
       "};\n",
       "\n",
       "if(typeof $3Dmolpromise === 'undefined') {\n",
       "$3Dmolpromise = null;\n",
       "  $3Dmolpromise = loadScriptAsync('https://cdnjs.cloudflare.com/ajax/libs/3Dmol/2.3.0/3Dmol-min.js');\n",
       "}\n",
       "\n",
       "var viewer_17234713751074822 = null;\n",
       "var warn = document.getElementById(\"3dmolwarning_17234713751074822\");\n",
       "if(warn) {\n",
       "    warn.parentNode.removeChild(warn);\n",
       "}\n",
       "$3Dmolpromise.then(function() {\n",
       "viewer_17234713751074822 = $3Dmol.createViewer(document.getElementById(\"3dmolviewer_17234713751074822\"),{backgroundColor:\"white\"});\n",
       "viewer_17234713751074822.zoomTo();\n",
       "\tviewer_17234713751074822.addModel(\"\\n     RDKit          3D\\n\\n  8  9  0  0  0  0  0  0  0  0999 V2000\\n    0.0098    1.4877   -0.1013 C   0  0  0  0  0  0  0  0  0  0  0  0\\n    0.0257    0.0279   -0.0317 N   0  0  2  0  0  0  0  0  0  0  0  0\\n   -1.1455   -0.6754    0.6308 C   0  0  1  0  0  0  0  0  0  0  0  0\\n   -0.7303   -2.1228    0.3929 C   0  0  0  0  0  0  0  0  0  0  0  0\\n    0.5711   -2.1014    0.7077 C   0  0  0  0  0  0  0  0  0  0  0  0\\n    0.7870   -0.6395    1.0985 C   0  0  2  0  0  0  0  0  0  0  0  0\\n   -0.4514   -0.4706    2.0496 C   0  0  1  0  0  0  0  0  0  0  0  0\\n   -0.5310    0.7850    2.6699 O   0  0  0  0  0  0  0  0  0  0  0  0\\n  2  1  1  1\\n  2  3  1  0\\n  2  6  1  0\\n  3  4  1  6\\n  4  5  2  0\\n  3  7  1  0\\n  6  5  1  6\\n  6  7  1  0\\n  7  8  1  6\\nM  CHG  1   2   1\\nM  END\\n\",\"sdf\");\n",
       "\tviewer_17234713751074822.setStyle({\"stick\": {}});\n",
       "\tviewer_17234713751074822.zoomTo();\n",
       "\tviewer_17234713751074822.setStyle({\"sphere\": {\"radius\": 0.3}, \"stick\": {\"radius\": 0.2}});\n",
       "viewer_17234713751074822.render();\n",
       "});\n",
       "</script>"
      ]
     },
     "metadata": {},
     "output_type": "display_data"
    }
   ],
   "source": [
    "draw_with_spheres(m.molecule)"
   ]
  },
  {
   "cell_type": "code",
   "execution_count": 5,
   "metadata": {},
   "outputs": [
    {
     "data": {
      "text/plain": [
       "array([[ 0.0098    ,  1.48769999, -0.1013    ],\n",
       "       [ 0.0257    ,  0.0279    , -0.0317    ],\n",
       "       [-1.14549994, -0.67540002,  0.63080001],\n",
       "       [-0.73030001, -2.12280011,  0.39289999],\n",
       "       [ 0.5711    , -2.1013999 ,  0.70770001],\n",
       "       [ 0.787     , -0.63950002,  1.09850001],\n",
       "       [-0.45140001, -0.47060001,  2.04959989],\n",
       "       [-0.53100002,  0.78500003,  2.66989994]])"
      ]
     },
     "execution_count": 5,
     "metadata": {},
     "output_type": "execute_result"
    }
   ],
   "source": [
    "m.get_coordinates()"
   ]
  },
  {
   "cell_type": "code",
   "execution_count": 6,
   "metadata": {},
   "outputs": [
    {
     "name": "stdout",
     "output_type": "stream",
     "text": [
      "8\n",
      "\n",
      "C 0.0098 1.4877 -0.1013\n",
      "N 0.0257 0.0279 -0.0317\n",
      "C -1.1455 -0.6754 0.6308\n",
      "C -0.7303 -2.1228 0.3929\n",
      "C 0.5711 -2.1014 0.7077\n",
      "C 0.7870 -0.6395 1.0985\n",
      "C -0.4514 -0.4706 2.0496\n",
      "O -0.5310 0.7850 2.6699\n",
      "\n"
     ]
    }
   ],
   "source": [
    "block = \"{}\\n\\n\".format(len(m.get_atoms()))\n",
    "count = 0\n",
    "for at, coord in zip(m.get_atoms(), m.get_coordinates()):\n",
    "    at = at.GetSymbol()\n",
    "    x, y, z = coord\n",
    "    block += f\"{at} {x:.4f} {y:.4f} {z:.4f}\\n\"\n",
    "\n",
    "print(block)"
   ]
  },
  {
   "cell_type": "code",
   "execution_count": 12,
   "metadata": {},
   "outputs": [],
   "source": [
    "raw_mol = Chem.MolFromXYZBlock(block)"
   ]
  },
  {
   "cell_type": "code",
   "execution_count": 13,
   "metadata": {},
   "outputs": [
    {
     "ename": "ValueError",
     "evalue": "Final molecular charge does not match input; could not find valid bond ordering",
     "output_type": "error",
     "traceback": [
      "\u001b[1;31m---------------------------------------------------------------------------\u001b[0m",
      "\u001b[1;31mValueError\u001b[0m                                Traceback (most recent call last)",
      "Cell \u001b[1;32mIn[13], line 2\u001b[0m\n\u001b[0;32m      1\u001b[0m conn_mol \u001b[38;5;241m=\u001b[39m Chem\u001b[38;5;241m.\u001b[39mMol(raw_mol)\n\u001b[1;32m----> 2\u001b[0m rdDetermineBonds\u001b[38;5;241m.\u001b[39mDetermineBonds(conn_mol,charge\u001b[38;5;241m=\u001b[39m\u001b[38;5;241m0\u001b[39m)\n\u001b[0;32m      3\u001b[0m draw_with_spheres(conn_mol)\n",
      "\u001b[1;31mValueError\u001b[0m: Final molecular charge does not match input; could not find valid bond ordering"
     ]
    }
   ],
   "source": [
    "conn_mol = Chem.Mol(raw_mol)\n",
    "rdDetermineBonds.DetermineBonds(conn_mol,charge=0)\n",
    "draw_with_spheres(conn_mol)"
   ]
  },
  {
   "cell_type": "code",
   "execution_count": 8,
   "metadata": {},
   "outputs": [
    {
     "data": {
      "application/3dmoljs_load.v0": "<div id=\"3dmolviewer_17234713751297662\"  style=\"position: relative; width: 300px; height: 300px;\">\n        <p id=\"3dmolwarning_17234713751297662\" style=\"background-color:#ffcccc;color:black\">3Dmol.js failed to load for some reason.  Please check your browser console for error messages.<br></p>\n        </div>\n<script>\n\nvar loadScriptAsync = function(uri){\n  return new Promise((resolve, reject) => {\n    //this is to ignore the existence of requirejs amd\n    var savedexports, savedmodule;\n    if (typeof exports !== 'undefined') savedexports = exports;\n    else exports = {}\n    if (typeof module !== 'undefined') savedmodule = module;\n    else module = {}\n\n    var tag = document.createElement('script');\n    tag.src = uri;\n    tag.async = true;\n    tag.onload = () => {\n        exports = savedexports;\n        module = savedmodule;\n        resolve();\n    };\n  var firstScriptTag = document.getElementsByTagName('script')[0];\n  firstScriptTag.parentNode.insertBefore(tag, firstScriptTag);\n});\n};\n\nif(typeof $3Dmolpromise === 'undefined') {\n$3Dmolpromise = null;\n  $3Dmolpromise = loadScriptAsync('https://cdnjs.cloudflare.com/ajax/libs/3Dmol/2.3.0/3Dmol-min.js');\n}\n\nvar viewer_17234713751297662 = null;\nvar warn = document.getElementById(\"3dmolwarning_17234713751297662\");\nif(warn) {\n    warn.parentNode.removeChild(warn);\n}\n$3Dmolpromise.then(function() {\nviewer_17234713751297662 = $3Dmol.createViewer(document.getElementById(\"3dmolviewer_17234713751297662\"),{backgroundColor:\"white\"});\nviewer_17234713751297662.zoomTo();\n\tviewer_17234713751297662.addModel(\"\\n     RDKit          3D\\n\\n  8  0  0  0  0  0  0  0  0  0999 V2000\\n    0.0098    1.4877   -0.1013 C   0  0  0  0  0  0  0  0  0  0  0  0\\n    0.0257    0.0279   -0.0317 N   0  0  0  0  0  0  0  0  0  0  0  0\\n   -1.1455   -0.6754    0.6308 C   0  0  0  0  0  0  0  0  0  0  0  0\\n   -0.7303   -2.1228    0.3929 C   0  0  0  0  0  0  0  0  0  0  0  0\\n    0.5711   -2.1014    0.7077 C   0  0  0  0  0  0  0  0  0  0  0  0\\n    0.7870   -0.6395    1.0985 C   0  0  0  0  0  0  0  0  0  0  0  0\\n   -0.4514   -0.4706    2.0496 C   0  0  0  0  0  0  0  0  0  0  0  0\\n   -0.5310    0.7850    2.6699 O   0  0  0  0  0  0  0  0  0  0  0  0\\nM  END\\n\",\"sdf\");\n\tviewer_17234713751297662.setStyle({\"stick\": {}});\n\tviewer_17234713751297662.zoomTo();\n\tviewer_17234713751297662.setStyle({\"sphere\": {\"radius\": 0.3}, \"stick\": {\"radius\": 0.2}});\nviewer_17234713751297662.render();\n});\n</script>",
      "text/html": [
       "<div id=\"3dmolviewer_17234713751297662\"  style=\"position: relative; width: 300px; height: 300px;\">\n",
       "        <p id=\"3dmolwarning_17234713751297662\" style=\"background-color:#ffcccc;color:black\">3Dmol.js failed to load for some reason.  Please check your browser console for error messages.<br></p>\n",
       "        </div>\n",
       "<script>\n",
       "\n",
       "var loadScriptAsync = function(uri){\n",
       "  return new Promise((resolve, reject) => {\n",
       "    //this is to ignore the existence of requirejs amd\n",
       "    var savedexports, savedmodule;\n",
       "    if (typeof exports !== 'undefined') savedexports = exports;\n",
       "    else exports = {}\n",
       "    if (typeof module !== 'undefined') savedmodule = module;\n",
       "    else module = {}\n",
       "\n",
       "    var tag = document.createElement('script');\n",
       "    tag.src = uri;\n",
       "    tag.async = true;\n",
       "    tag.onload = () => {\n",
       "        exports = savedexports;\n",
       "        module = savedmodule;\n",
       "        resolve();\n",
       "    };\n",
       "  var firstScriptTag = document.getElementsByTagName('script')[0];\n",
       "  firstScriptTag.parentNode.insertBefore(tag, firstScriptTag);\n",
       "});\n",
       "};\n",
       "\n",
       "if(typeof $3Dmolpromise === 'undefined') {\n",
       "$3Dmolpromise = null;\n",
       "  $3Dmolpromise = loadScriptAsync('https://cdnjs.cloudflare.com/ajax/libs/3Dmol/2.3.0/3Dmol-min.js');\n",
       "}\n",
       "\n",
       "var viewer_17234713751297662 = null;\n",
       "var warn = document.getElementById(\"3dmolwarning_17234713751297662\");\n",
       "if(warn) {\n",
       "    warn.parentNode.removeChild(warn);\n",
       "}\n",
       "$3Dmolpromise.then(function() {\n",
       "viewer_17234713751297662 = $3Dmol.createViewer(document.getElementById(\"3dmolviewer_17234713751297662\"),{backgroundColor:\"white\"});\n",
       "viewer_17234713751297662.zoomTo();\n",
       "\tviewer_17234713751297662.addModel(\"\\n     RDKit          3D\\n\\n  8  0  0  0  0  0  0  0  0  0999 V2000\\n    0.0098    1.4877   -0.1013 C   0  0  0  0  0  0  0  0  0  0  0  0\\n    0.0257    0.0279   -0.0317 N   0  0  0  0  0  0  0  0  0  0  0  0\\n   -1.1455   -0.6754    0.6308 C   0  0  0  0  0  0  0  0  0  0  0  0\\n   -0.7303   -2.1228    0.3929 C   0  0  0  0  0  0  0  0  0  0  0  0\\n    0.5711   -2.1014    0.7077 C   0  0  0  0  0  0  0  0  0  0  0  0\\n    0.7870   -0.6395    1.0985 C   0  0  0  0  0  0  0  0  0  0  0  0\\n   -0.4514   -0.4706    2.0496 C   0  0  0  0  0  0  0  0  0  0  0  0\\n   -0.5310    0.7850    2.6699 O   0  0  0  0  0  0  0  0  0  0  0  0\\nM  END\\n\",\"sdf\");\n",
       "\tviewer_17234713751297662.setStyle({\"stick\": {}});\n",
       "\tviewer_17234713751297662.zoomTo();\n",
       "\tviewer_17234713751297662.setStyle({\"sphere\": {\"radius\": 0.3}, \"stick\": {\"radius\": 0.2}});\n",
       "viewer_17234713751297662.render();\n",
       "});\n",
       "</script>"
      ]
     },
     "metadata": {},
     "output_type": "display_data"
    }
   ],
   "source": [
    "draw_with_spheres(raw_mol)"
   ]
  },
  {
   "cell_type": "code",
   "execution_count": 9,
   "metadata": {},
   "outputs": [],
   "source": [
    "conn_mol = Chem.Mol(raw_mol)\n",
    "rdDetermineBonds.DetermineConnectivity(conn_mol)"
   ]
  },
  {
   "cell_type": "code",
   "execution_count": 10,
   "metadata": {},
   "outputs": [
    {
     "data": {
      "application/3dmoljs_load.v0": "<div id=\"3dmolviewer_17234713751405027\"  style=\"position: relative; width: 300px; height: 300px;\">\n        <p id=\"3dmolwarning_17234713751405027\" style=\"background-color:#ffcccc;color:black\">3Dmol.js failed to load for some reason.  Please check your browser console for error messages.<br></p>\n        </div>\n<script>\n\nvar loadScriptAsync = function(uri){\n  return new Promise((resolve, reject) => {\n    //this is to ignore the existence of requirejs amd\n    var savedexports, savedmodule;\n    if (typeof exports !== 'undefined') savedexports = exports;\n    else exports = {}\n    if (typeof module !== 'undefined') savedmodule = module;\n    else module = {}\n\n    var tag = document.createElement('script');\n    tag.src = uri;\n    tag.async = true;\n    tag.onload = () => {\n        exports = savedexports;\n        module = savedmodule;\n        resolve();\n    };\n  var firstScriptTag = document.getElementsByTagName('script')[0];\n  firstScriptTag.parentNode.insertBefore(tag, firstScriptTag);\n});\n};\n\nif(typeof $3Dmolpromise === 'undefined') {\n$3Dmolpromise = null;\n  $3Dmolpromise = loadScriptAsync('https://cdnjs.cloudflare.com/ajax/libs/3Dmol/2.3.0/3Dmol-min.js');\n}\n\nvar viewer_17234713751405027 = null;\nvar warn = document.getElementById(\"3dmolwarning_17234713751405027\");\nif(warn) {\n    warn.parentNode.removeChild(warn);\n}\n$3Dmolpromise.then(function() {\nviewer_17234713751405027 = $3Dmol.createViewer(document.getElementById(\"3dmolviewer_17234713751405027\"),{backgroundColor:\"white\"});\nviewer_17234713751405027.zoomTo();\n\tviewer_17234713751405027.addModel(\"\\n     RDKit          3D\\n\\n  8  9  0  0  0  0  0  0  0  0999 V2000\\n    0.0098    1.4877   -0.1013 C   0  0  0  0  0  1  0  0  0  0  0  0\\n    0.0257    0.0279   -0.0317 N   0  0  0  0  0  0  0  0  0  0  0  0\\n   -1.1455   -0.6754    0.6308 C   0  0  0  0  0  3  0  0  0  0  0  0\\n   -0.7303   -2.1228    0.3929 C   0  0  0  0  0  2  0  0  0  0  0  0\\n    0.5711   -2.1014    0.7077 C   0  0  0  0  0  2  0  0  0  0  0  0\\n    0.7870   -0.6395    1.0985 C   0  0  0  0  0  3  0  0  0  0  0  0\\n   -0.4514   -0.4706    2.0496 C   0  0  0  0  0  3  0  0  0  0  0  0\\n   -0.5310    0.7850    2.6699 O   0  0  0  0  0  1  0  0  0  0  0  0\\n  2  1  1  0\\n  3  2  1  0\\n  4  3  1  0\\n  5  4  1  0\\n  6  5  1  0\\n  6  2  1  0\\n  7  6  1  0\\n  7  3  1  0\\n  8  7  1  0\\nM  END\\n\",\"sdf\");\n\tviewer_17234713751405027.setStyle({\"stick\": {}});\n\tviewer_17234713751405027.zoomTo();\n\tviewer_17234713751405027.setStyle({\"sphere\": {\"radius\": 0.3}, \"stick\": {\"radius\": 0.2}});\nviewer_17234713751405027.render();\n});\n</script>",
      "text/html": [
       "<div id=\"3dmolviewer_17234713751405027\"  style=\"position: relative; width: 300px; height: 300px;\">\n",
       "        <p id=\"3dmolwarning_17234713751405027\" style=\"background-color:#ffcccc;color:black\">3Dmol.js failed to load for some reason.  Please check your browser console for error messages.<br></p>\n",
       "        </div>\n",
       "<script>\n",
       "\n",
       "var loadScriptAsync = function(uri){\n",
       "  return new Promise((resolve, reject) => {\n",
       "    //this is to ignore the existence of requirejs amd\n",
       "    var savedexports, savedmodule;\n",
       "    if (typeof exports !== 'undefined') savedexports = exports;\n",
       "    else exports = {}\n",
       "    if (typeof module !== 'undefined') savedmodule = module;\n",
       "    else module = {}\n",
       "\n",
       "    var tag = document.createElement('script');\n",
       "    tag.src = uri;\n",
       "    tag.async = true;\n",
       "    tag.onload = () => {\n",
       "        exports = savedexports;\n",
       "        module = savedmodule;\n",
       "        resolve();\n",
       "    };\n",
       "  var firstScriptTag = document.getElementsByTagName('script')[0];\n",
       "  firstScriptTag.parentNode.insertBefore(tag, firstScriptTag);\n",
       "});\n",
       "};\n",
       "\n",
       "if(typeof $3Dmolpromise === 'undefined') {\n",
       "$3Dmolpromise = null;\n",
       "  $3Dmolpromise = loadScriptAsync('https://cdnjs.cloudflare.com/ajax/libs/3Dmol/2.3.0/3Dmol-min.js');\n",
       "}\n",
       "\n",
       "var viewer_17234713751405027 = null;\n",
       "var warn = document.getElementById(\"3dmolwarning_17234713751405027\");\n",
       "if(warn) {\n",
       "    warn.parentNode.removeChild(warn);\n",
       "}\n",
       "$3Dmolpromise.then(function() {\n",
       "viewer_17234713751405027 = $3Dmol.createViewer(document.getElementById(\"3dmolviewer_17234713751405027\"),{backgroundColor:\"white\"});\n",
       "viewer_17234713751405027.zoomTo();\n",
       "\tviewer_17234713751405027.addModel(\"\\n     RDKit          3D\\n\\n  8  9  0  0  0  0  0  0  0  0999 V2000\\n    0.0098    1.4877   -0.1013 C   0  0  0  0  0  1  0  0  0  0  0  0\\n    0.0257    0.0279   -0.0317 N   0  0  0  0  0  0  0  0  0  0  0  0\\n   -1.1455   -0.6754    0.6308 C   0  0  0  0  0  3  0  0  0  0  0  0\\n   -0.7303   -2.1228    0.3929 C   0  0  0  0  0  2  0  0  0  0  0  0\\n    0.5711   -2.1014    0.7077 C   0  0  0  0  0  2  0  0  0  0  0  0\\n    0.7870   -0.6395    1.0985 C   0  0  0  0  0  3  0  0  0  0  0  0\\n   -0.4514   -0.4706    2.0496 C   0  0  0  0  0  3  0  0  0  0  0  0\\n   -0.5310    0.7850    2.6699 O   0  0  0  0  0  1  0  0  0  0  0  0\\n  2  1  1  0\\n  3  2  1  0\\n  4  3  1  0\\n  5  4  1  0\\n  6  5  1  0\\n  6  2  1  0\\n  7  6  1  0\\n  7  3  1  0\\n  8  7  1  0\\nM  END\\n\",\"sdf\");\n",
       "\tviewer_17234713751405027.setStyle({\"stick\": {}});\n",
       "\tviewer_17234713751405027.zoomTo();\n",
       "\tviewer_17234713751405027.setStyle({\"sphere\": {\"radius\": 0.3}, \"stick\": {\"radius\": 0.2}});\n",
       "viewer_17234713751405027.render();\n",
       "});\n",
       "</script>"
      ]
     },
     "metadata": {},
     "output_type": "display_data"
    }
   ],
   "source": [
    "draw_with_spheres(conn_mol)"
   ]
  },
  {
   "cell_type": "code",
   "execution_count": 11,
   "metadata": {},
   "outputs": [
    {
     "ename": "ValueError",
     "evalue": "Final molecular charge does not match input; could not find valid bond ordering",
     "output_type": "error",
     "traceback": [
      "\u001b[1;31m---------------------------------------------------------------------------\u001b[0m",
      "\u001b[1;31mValueError\u001b[0m                                Traceback (most recent call last)",
      "Cell \u001b[1;32mIn[11], line 1\u001b[0m\n\u001b[1;32m----> 1\u001b[0m rdDetermineBonds\u001b[38;5;241m.\u001b[39mDetermineBondOrders(conn_mol, charge\u001b[38;5;241m=\u001b[39m\u001b[38;5;241m0\u001b[39m)\n\u001b[0;32m      2\u001b[0m draw_with_spheres(conn_mol)\n",
      "\u001b[1;31mValueError\u001b[0m: Final molecular charge does not match input; could not find valid bond ordering"
     ]
    }
   ],
   "source": [
    "rdDetermineBonds.DetermineBondOrders(conn_mol, charge=0)\n",
    "draw_with_spheres(conn_mol)"
   ]
  },
  {
   "cell_type": "code",
   "execution_count": 6,
   "metadata": {},
   "outputs": [
    {
     "name": "stdout",
     "output_type": "stream",
     "text": [
      "14\n",
      "C 0.4029 1.4723 -0.1406\n",
      "N 1.3644 0.1596 -0.3010\n",
      "C -1.1981 0.3139 0.3332\n",
      "N 2.0035 -1.8714 0.0184\n",
      "N 1.1810 1.4370 1.3258\n",
      "C -1.3547 -0.1193 -0.8744\n",
      "C 1.8995 -0.3421 -0.0087\n",
      "O -2.2328 0.2256 -0.6995\n",
      "C 1.6100 -0.6686 1.5922\n",
      "O -1.1704 -0.0924 -0.0939\n"
     ]
    },
    {
     "ename": "IndexError",
     "evalue": "list index out of range",
     "output_type": "error",
     "traceback": [
      "\u001b[1;31m---------------------------------------------------------------------------\u001b[0m",
      "\u001b[1;31mIndexError\u001b[0m                                Traceback (most recent call last)",
      "Cell \u001b[1;32mIn[6], line 28\u001b[0m\n\u001b[0;32m     26\u001b[0m \u001b[38;5;28mprint\u001b[39m(length)\n\u001b[0;32m     27\u001b[0m \u001b[38;5;28;01mfor\u001b[39;00m i \u001b[38;5;129;01min\u001b[39;00m \u001b[38;5;28mrange\u001b[39m(length):\n\u001b[1;32m---> 28\u001b[0m     \u001b[38;5;28mprint\u001b[39m(coords[i])\n\u001b[0;32m     29\u001b[0m     at, x, y, z \u001b[38;5;241m=\u001b[39m coords[i]\u001b[38;5;241m.\u001b[39msplit()\n\u001b[0;32m     30\u001b[0m     x, y, z \u001b[38;5;241m=\u001b[39m \u001b[38;5;28mfloat\u001b[39m(x), \u001b[38;5;28mfloat\u001b[39m(y), \u001b[38;5;28mfloat\u001b[39m(z)\n",
      "\u001b[1;31mIndexError\u001b[0m: list index out of range"
     ]
    }
   ],
   "source": [
    "molecule = \"\"\"<LIGAND>\n",
    "Cn1c(=O)c2c(ncn2C)n(C)c1=O\n",
    "<XYZ>\n",
    "C 0.4029 1.4723 -0.1406\n",
    "N 1.3644 0.1596 -0.3010\n",
    "C -1.1981 0.3139 0.3332\n",
    "N 2.0035 -1.8714 0.0184\n",
    "N 1.1810 1.4370 1.3258\n",
    "C -1.3547 -0.1193 -0.8744\n",
    "C 1.8995 -0.3421 -0.0087\n",
    "O -2.2328 0.2256 -0.6995\n",
    "C 1.6100 -0.6686 1.5922\n",
    "O -1.1704 -0.0924 -0.0939\"\"\"\n",
    "\n",
    "smiles, xyz = molecule.split(\"<XYZ>\")\n",
    "smiles = smiles.split(\"<LIGAND>\")[1].strip()\n",
    "xyz = xyz.strip()\n",
    "\n",
    "mol = Chem.MolFromSmiles(smiles, sanitize=True)   # 2D molecule\n",
    "\n",
    "length = mol.GetNumAtoms()\n",
    "coords = xyz.split(\"\\n\")[:length]\n",
    "conn = xyz.split(\"\\n\")[length:]\n",
    "\n",
    "block = \"{}\\n\\n\".format(length)\n",
    "print(length)\n",
    "for i in range(length):\n",
    "    print(coords[i])\n",
    "    at, x, y, z = coords[i].split()\n",
    "    x, y, z = float(x), float(y), float(z)\n",
    "    block += f\"{at} {x:.4f} {y:.4f} {z:.4f}\\n\""
   ]
  },
  {
   "cell_type": "code",
   "execution_count": null,
   "metadata": {},
   "outputs": [],
   "source": []
  }
 ],
 "metadata": {
  "kernelspec": {
   "display_name": "MLChem",
   "language": "python",
   "name": "mlchem"
  },
  "language_info": {
   "codemirror_mode": {
    "name": "ipython",
    "version": 3
   },
   "file_extension": ".py",
   "mimetype": "text/x-python",
   "name": "python",
   "nbconvert_exporter": "python",
   "pygments_lexer": "ipython3",
   "version": "3.12.4"
  }
 },
 "nbformat": 4,
 "nbformat_minor": 2
}
